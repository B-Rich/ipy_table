{
 "metadata": {
  "name": "ipy_table_test"
 },
 "nbformat": 3,
 "nbformat_minor": 0,
 "worksheets": [
  {
   "cells": [
    {
     "cell_type": "code",
     "collapsed": false,
     "input": [
      "from ipy_table import *"
     ],
     "language": "python",
     "metadata": {},
     "outputs": [],
     "prompt_number": 1
    },
    {
     "cell_type": "heading",
     "level": 1,
     "metadata": {},
     "source": [
      "Interactive Interface"
     ]
    },
    {
     "cell_type": "code",
     "collapsed": false,
     "input": [
      "a = [rand(6) for i in range(8)]\n",
      "table(a, float_format='$%4.2f')"
     ],
     "language": "python",
     "metadata": {},
     "outputs": [
      {
       "html": [
        "<table><tr><td >$0.18</td><td >$0.16</td><td >$0.67</td><td >$0.77</td><td >$0.23</td><td >$0.94</td></tr><tr><td >$0.70</td><td >$0.04</td><td >$0.60</td><td >$0.37</td><td >$0.36</td><td >$0.55</td></tr><tr><td >$0.31</td><td >$0.08</td><td >$0.19</td><td >$0.50</td><td >$0.57</td><td >$0.14</td></tr><tr><td >$0.01</td><td >$0.46</td><td >$0.46</td><td >$0.39</td><td >$0.47</td><td >$0.69</td></tr><tr><td >$0.41</td><td >$0.31</td><td >$0.34</td><td >$0.11</td><td >$0.94</td><td >$0.52</td></tr><tr><td >$0.92</td><td >$0.20</td><td >$0.78</td><td >$0.82</td><td >$0.34</td><td >$0.51</td></tr><tr><td >$0.98</td><td >$0.26</td><td >$0.15</td><td >$0.65</td><td >$0.56</td><td >$0.90</td></tr><tr><td >$0.31</td><td >$0.89</td><td >$0.44</td><td >$0.85</td><td >$0.97</td><td >$0.28</td></tr>"
       ],
       "output_type": "pyout",
       "prompt_number": 2,
       "text": [
        "<IPython.core.display.HTML at 0xa0f4a8c>"
       ]
      }
     ],
     "prompt_number": 2
    },
    {
     "cell_type": "code",
     "collapsed": false,
     "input": [
      "set_cell_style(1, 1, color='LightGreen', italic=True, thick_border='top, left, bottom, right')\n",
      "set_cell_style(3, 1, color='LightBlue', bold=True, no_border='all')\n",
      "set_column_style(3, color='Yellow')\n",
      "set_row_style(5, color='Orange')\n",
      "set_cell_style(0, 4, column_span=2, color='Sienna')\n",
      "set_cell_style(6, 0, row_span=2, color='Sienna')"
     ],
     "language": "python",
     "metadata": {},
     "outputs": [
      {
       "html": [
        "<table><tr><td >$0.18</td><td >$0.16</td><td >$0.67</td><td  style=\"background-color:Yellow;\">$0.77</td><td colspan=\"2\"; style=\"background-color:Sienna;\">$0.23</td></tr><tr><td >$0.70</td><td  style=\"background-color:LightGreen;border-left: 3px solid black;border-right: 3px solid black;border-top: 3px solid black;border-bottom: 2px solid black;\"><i>$0.04</i></td><td  style=\"border-left: 3px solid black;\">$0.60</td><td  style=\"background-color:Yellow;\">$0.37</td><td >$0.36</td><td >$0.55</td></tr><tr><td >$0.31</td><td  style=\"border-top: 3px solid black;border-bottom: 1px solid transparent;\">$0.08</td><td >$0.19</td><td  style=\"background-color:Yellow;\">$0.50</td><td >$0.57</td><td >$0.14</td></tr><tr><td  style=\"border-right: 1px solid transparent;\">$0.01</td><td  style=\"background-color:LightBlue;border-left: 1px solid transparent;border-right: 1px solid transparent;border-top: 1px solid transparent;border-bottom: 1px solid transparent;\"><b>$0.46</b></td><td >$0.46</td><td  style=\"background-color:Yellow;\">$0.39</td><td >$0.47</td><td >$0.69</td></tr><tr><td >$0.41</td><td >$0.31</td><td >$0.34</td><td  style=\"background-color:Yellow;\">$0.11</td><td >$0.94</td><td >$0.52</td></tr><tr><td  style=\"background-color:Orange;\">$0.92</td><td  style=\"background-color:Orange;\">$0.20</td><td  style=\"background-color:Orange;\">$0.78</td><td  style=\"background-color:Orange;\">$0.82</td><td  style=\"background-color:Orange;\">$0.34</td><td  style=\"background-color:Orange;\">$0.51</td></tr><tr><td rowspan=\"2\"; style=\"background-color:Sienna;\">$0.98</td><td >$0.26</td><td >$0.15</td><td  style=\"background-color:Yellow;\">$0.65</td><td >$0.56</td><td >$0.90</td></tr><tr><td >$0.89</td><td >$0.44</td><td  style=\"background-color:Yellow;\">$0.85</td><td >$0.97</td><td >$0.28</td></tr>"
       ],
       "output_type": "pyout",
       "prompt_number": 3,
       "text": [
        "<IPython.core.display.HTML at 0xa0f88ac>"
       ]
      }
     ],
     "prompt_number": 3
    },
    {
     "cell_type": "code",
     "collapsed": false,
     "input": [
      "apply_style('basic')"
     ],
     "language": "python",
     "metadata": {},
     "outputs": [
      {
       "html": [
        "<table><tr><td  style=\"background-color:White;border-left: 1px solid transparent;border-top: 1px solid transparent;\"><b>$0.18</b></td><td  style=\"background-color:LightGray;\"><b>$0.16</b></td><td  style=\"background-color:LightGray;\"><b>$0.67</b></td><td  style=\"background-color:LightGray;\"><b>$0.77</b></td><td colspan=\"2\"; style=\"background-color:LightGray;\"><b>$0.23</b></td></tr><tr><td  style=\"background-color:LightGray;\"><b>$0.70</b></td><td  style=\"background-color:Ivory;border-left: 3px solid black;border-right: 3px solid black;border-top: 3px solid black;border-bottom: 2px solid black;\"><i>$0.04</i></td><td  style=\"background-color:Ivory;border-left: 3px solid black;\">$0.60</td><td  style=\"background-color:Ivory;\">$0.37</td><td  style=\"background-color:Ivory;\">$0.36</td><td  style=\"background-color:Ivory;\">$0.55</td></tr><tr><td  style=\"background-color:LightGray;\"><b>$0.31</b></td><td  style=\"background-color:AliceBlue;border-top: 3px solid black;border-bottom: 1px solid transparent;\">$0.08</td><td  style=\"background-color:AliceBlue;\">$0.19</td><td  style=\"background-color:AliceBlue;\">$0.50</td><td  style=\"background-color:AliceBlue;\">$0.57</td><td  style=\"background-color:AliceBlue;\">$0.14</td></tr><tr><td  style=\"background-color:LightGray;border-right: 1px solid transparent;\"><b>$0.01</b></td><td  style=\"background-color:Ivory;border-left: 1px solid transparent;border-right: 1px solid transparent;border-top: 1px solid transparent;border-bottom: 1px solid transparent;\"><b>$0.46</b></td><td  style=\"background-color:Ivory;\">$0.46</td><td  style=\"background-color:Ivory;\">$0.39</td><td  style=\"background-color:Ivory;\">$0.47</td><td  style=\"background-color:Ivory;\">$0.69</td></tr><tr><td  style=\"background-color:LightGray;\"><b>$0.41</b></td><td  style=\"background-color:AliceBlue;\">$0.31</td><td  style=\"background-color:AliceBlue;\">$0.34</td><td  style=\"background-color:AliceBlue;\">$0.11</td><td  style=\"background-color:AliceBlue;\">$0.94</td><td  style=\"background-color:AliceBlue;\">$0.52</td></tr><tr><td  style=\"background-color:LightGray;\"><b>$0.92</b></td><td  style=\"background-color:Ivory;\">$0.20</td><td  style=\"background-color:Ivory;\">$0.78</td><td  style=\"background-color:Ivory;\">$0.82</td><td  style=\"background-color:Ivory;\">$0.34</td><td  style=\"background-color:Ivory;\">$0.51</td></tr><tr><td rowspan=\"2\"; style=\"background-color:LightGray;\"><b>$0.98</b></td><td  style=\"background-color:AliceBlue;\">$0.26</td><td  style=\"background-color:AliceBlue;\">$0.15</td><td  style=\"background-color:AliceBlue;\">$0.65</td><td  style=\"background-color:AliceBlue;\">$0.56</td><td  style=\"background-color:AliceBlue;\">$0.90</td></tr><tr><td  style=\"background-color:Ivory;\">$0.89</td><td  style=\"background-color:Ivory;\">$0.44</td><td  style=\"background-color:Ivory;\">$0.85</td><td  style=\"background-color:Ivory;\">$0.97</td><td  style=\"background-color:Ivory;\">$0.28</td></tr>"
       ],
       "output_type": "pyout",
       "prompt_number": 4,
       "text": [
        "<IPython.core.display.HTML at 0xa0f49ac>"
       ]
      }
     ],
     "prompt_number": 4
    },
    {
     "cell_type": "code",
     "collapsed": false,
     "input": [
      "a = [rand(2) for i in range(2)]\n",
      "table(a, float_format='$%4.2f')\n",
      "set_cell_style(0, 0, thick_border='all')\n",
      "set_cell_style(1, 1, thick_border='all')"
     ],
     "language": "python",
     "metadata": {},
     "outputs": [
      {
       "html": [
        "<table><tr><td  style=\"border-left: 3px solid black;border-right: 3px solid black;border-top: 3px solid black;border-bottom: 2px solid black;\">$0.23</td><td  style=\"border-left: 3px solid black;\">$0.07</td></tr><tr><td  style=\"border-top: 3px solid black;\">$0.60</td><td  style=\"border-left: 3px solid black;border-right: 3px solid black;border-top: 3px solid black;border-bottom: 2px solid black;\">$0.79</td></tr>"
       ],
       "output_type": "pyout",
       "prompt_number": 5,
       "text": [
        "<IPython.core.display.HTML at 0xa0f4a4c>"
       ]
      }
     ],
     "prompt_number": 5
    },
    {
     "cell_type": "code",
     "collapsed": false,
     "input": [
      "a = [rand(2) for i in range(2)]\n",
      "table(a, float_format='$%4.2f')\n",
      "set_cell_style(0, 0, no_border='all')\n",
      "set_cell_style(1, 1, no_border='all')"
     ],
     "language": "python",
     "metadata": {},
     "outputs": [
      {
       "html": [
        "<table><tr><td  style=\"border-left: 1px solid transparent;border-right: 1px solid transparent;border-top: 1px solid transparent;border-bottom: 1px solid transparent;\">$0.03</td><td  style=\"border-bottom: 1px solid transparent;\">$0.91</td></tr><tr><td  style=\"border-right: 1px solid transparent;\">$0.90</td><td  style=\"border-left: 1px solid transparent;border-right: 1px solid transparent;border-top: 1px solid transparent;border-bottom: 1px solid transparent;\">$0.84</td></tr>"
       ],
       "output_type": "pyout",
       "prompt_number": 6,
       "text": [
        "<IPython.core.display.HTML at 0xa0eef0c>"
       ]
      }
     ],
     "prompt_number": 6
    },
    {
     "cell_type": "code",
     "collapsed": false,
     "input": [
      "a = [['Testing' for i in range(3)] for j in range(2)]\n",
      "a[0][0]='a'\n",
      "table(a, float_format='$%4.3f')\n",
      "nu._TABLE._debug = True\n",
      "set_row_style(0, width='300')\n",
      "set_cell_style(0,0,align='right')"
     ],
     "language": "python",
     "metadata": {},
     "outputs": [
      {
       "ename": "NameError",
       "evalue": "name 'nu' is not defined",
       "output_type": "pyerr",
       "traceback": [
        "\u001b[1;31m---------------------------------------------------------------------------\u001b[0m\n\u001b[1;31mNameError\u001b[0m                                 Traceback (most recent call last)",
        "\u001b[1;32m<ipython-input-7-72e88fc7ad6c>\u001b[0m in \u001b[0;36m<module>\u001b[1;34m()\u001b[0m\n\u001b[0;32m      2\u001b[0m \u001b[0ma\u001b[0m\u001b[1;33m[\u001b[0m\u001b[1;36m0\u001b[0m\u001b[1;33m]\u001b[0m\u001b[1;33m[\u001b[0m\u001b[1;36m0\u001b[0m\u001b[1;33m]\u001b[0m\u001b[1;33m=\u001b[0m\u001b[1;34m'a'\u001b[0m\u001b[1;33m\u001b[0m\u001b[0m\n\u001b[0;32m      3\u001b[0m \u001b[0mtable\u001b[0m\u001b[1;33m(\u001b[0m\u001b[0ma\u001b[0m\u001b[1;33m,\u001b[0m \u001b[0mfloat_format\u001b[0m\u001b[1;33m=\u001b[0m\u001b[1;34m'$%4.3f'\u001b[0m\u001b[1;33m)\u001b[0m\u001b[1;33m\u001b[0m\u001b[0m\n\u001b[1;32m----> 4\u001b[1;33m \u001b[0mnu\u001b[0m\u001b[1;33m.\u001b[0m\u001b[0m_TABLE\u001b[0m\u001b[1;33m.\u001b[0m\u001b[0m_debug\u001b[0m \u001b[1;33m=\u001b[0m \u001b[0mTrue\u001b[0m\u001b[1;33m\u001b[0m\u001b[0m\n\u001b[0m\u001b[0;32m      5\u001b[0m \u001b[0mset_row_style\u001b[0m\u001b[1;33m(\u001b[0m\u001b[1;36m0\u001b[0m\u001b[1;33m,\u001b[0m \u001b[0mwidth\u001b[0m\u001b[1;33m=\u001b[0m\u001b[1;34m'300'\u001b[0m\u001b[1;33m)\u001b[0m\u001b[1;33m\u001b[0m\u001b[0m\n\u001b[0;32m      6\u001b[0m \u001b[0mset_cell_style\u001b[0m\u001b[1;33m(\u001b[0m\u001b[1;36m0\u001b[0m\u001b[1;33m,\u001b[0m\u001b[1;36m0\u001b[0m\u001b[1;33m,\u001b[0m\u001b[0malign\u001b[0m\u001b[1;33m=\u001b[0m\u001b[1;34m'right'\u001b[0m\u001b[1;33m)\u001b[0m\u001b[1;33m\u001b[0m\u001b[0m\n",
        "\u001b[1;31mNameError\u001b[0m: name 'nu' is not defined"
       ]
      }
     ],
     "prompt_number": 7
    },
    {
     "cell_type": "code",
     "collapsed": false,
     "input": [
      "text='<table border=\"1\" cellpadding=\"3\" cellspacing=\"0\" style=\"border:1px none white;width:10%;border-collapse:collapse;\"><tr><td align=\"center\">a</td><td >Testing</td><td >Testing</td></tr><tr><td >Testing</td><td >Testing</td><td >Testing</td></tr>'"
     ],
     "language": "python",
     "metadata": {},
     "outputs": [],
     "prompt_number": 8
    },
    {
     "cell_type": "code",
     "collapsed": false,
     "input": [
      "HTML(text)"
     ],
     "language": "python",
     "metadata": {},
     "outputs": [
      {
       "html": [
        "<table border=\"1\" cellpadding=\"3\" cellspacing=\"0\" style=\"border:1px none white;width:10%;border-collapse:collapse;\"><tr><td align=\"center\">a</td><td >Testing</td><td >Testing</td></tr><tr><td >Testing</td><td >Testing</td><td >Testing</td></tr>"
       ],
       "output_type": "pyout",
       "prompt_number": 9,
       "text": [
        "<IPython.core.display.HTML at 0xa1a042c>"
       ]
      }
     ],
     "prompt_number": 9
    },
    {
     "cell_type": "code",
     "collapsed": false,
     "input": [
      "HTML('<!DOCTYPE HTML PUBLIC \"-//W3C//DTD HTML 4.01//EN\" \"http://www.w3.org/TR/html4/loose.dtd\"><HTML>' + text + '</HTML>')"
     ],
     "language": "python",
     "metadata": {},
     "outputs": [
      {
       "html": [
        "<!DOCTYPE HTML PUBLIC \"-//W3C//DTD HTML 4.01//EN\" \"http://www.w3.org/TR/html4/loose.dtd\"><HTML><table border=\"1\" cellpadding=\"3\" cellspacing=\"0\" style=\"border:1px none white;width:10%;border-collapse:collapse;\"><tr><td align=\"center\">a</td><td >Testing</td><td >Testing</td></tr><tr><td >Testing</td><td >Testing</td><td >Testing</td></tr></HTML>"
       ],
       "output_type": "pyout",
       "prompt_number": 10,
       "text": [
        "<IPython.core.display.HTML at 0xa1a082c>"
       ]
      }
     ],
     "prompt_number": 10
    },
    {
     "cell_type": "heading",
     "level": 1,
     "metadata": {},
     "source": [
      "Tabulate"
     ]
    },
    {
     "cell_type": "code",
     "collapsed": false,
     "input": [
      "tabulate(rand(15), 4)"
     ],
     "language": "python",
     "metadata": {},
     "outputs": [
      {
       "ename": "NameError",
       "evalue": "global name 'copy' is not defined",
       "output_type": "pyerr",
       "traceback": [
        "\u001b[1;31m---------------------------------------------------------------------------\u001b[0m\n\u001b[1;31mNameError\u001b[0m                                 Traceback (most recent call last)",
        "\u001b[1;32m<ipython-input-11-1ede9f275bea>\u001b[0m in \u001b[0;36m<module>\u001b[1;34m()\u001b[0m\n\u001b[1;32m----> 1\u001b[1;33m \u001b[0mtabulate\u001b[0m\u001b[1;33m(\u001b[0m\u001b[0mrand\u001b[0m\u001b[1;33m(\u001b[0m\u001b[1;36m15\u001b[0m\u001b[1;33m)\u001b[0m\u001b[1;33m,\u001b[0m \u001b[1;36m4\u001b[0m\u001b[1;33m)\u001b[0m\u001b[1;33m\u001b[0m\u001b[0m\n\u001b[0m",
        "\u001b[1;32m/home/eric/Applications/ipy-notebook/ipy_table.py\u001b[0m in \u001b[0;36mtabulate\u001b[1;34m(data_list, columns, float_format)\u001b[0m\n\u001b[0;32m     63\u001b[0m \u001b[1;33m\u001b[0m\u001b[0m\n\u001b[0;32m     64\u001b[0m     \u001b[1;31m# Create an array and pad the ending cells with null strings\u001b[0m\u001b[1;33m\u001b[0m\u001b[1;33m\u001b[0m\u001b[0m\n\u001b[1;32m---> 65\u001b[1;33m     \u001b[0marray\u001b[0m \u001b[1;33m=\u001b[0m \u001b[0mcopy\u001b[0m\u001b[1;33m.\u001b[0m\u001b[0mcopy\u001b[0m\u001b[1;33m(\u001b[0m\u001b[0m_convert_to_list\u001b[0m\u001b[1;33m(\u001b[0m\u001b[0mdata_list\u001b[0m\u001b[1;33m)\u001b[0m\u001b[1;33m)\u001b[0m\u001b[1;33m\u001b[0m\u001b[0m\n\u001b[0m\u001b[0;32m     66\u001b[0m     \u001b[0mpad_cells\u001b[0m \u001b[1;33m=\u001b[0m \u001b[1;33m[\u001b[0m\u001b[1;34m''\u001b[0m \u001b[1;32mfor\u001b[0m \u001b[0mi\u001b[0m \u001b[1;32min\u001b[0m \u001b[0mrange\u001b[0m\u001b[1;33m(\u001b[0m\u001b[0mnum_blank_cells\u001b[0m\u001b[1;33m)\u001b[0m\u001b[1;33m]\u001b[0m\u001b[1;33m\u001b[0m\u001b[0m\n\u001b[0;32m     67\u001b[0m     \u001b[0marray\u001b[0m \u001b[1;33m=\u001b[0m \u001b[0marray\u001b[0m \u001b[1;33m+\u001b[0m \u001b[0mpad_cells\u001b[0m\u001b[1;33m\u001b[0m\u001b[0m\n",
        "\u001b[1;31mNameError\u001b[0m: global name 'copy' is not defined"
       ]
      }
     ],
     "prompt_number": 11
    },
    {
     "cell_type": "heading",
     "level": 1,
     "metadata": {},
     "source": [
      "Object Interface"
     ]
    },
    {
     "cell_type": "code",
     "collapsed": false,
     "input": [
      "a = [rand(6) for i in range(8)]\n",
      "t = Table(a, float_format='$%4.2f')\n",
      "t.set_cell_style(0, 0, color='LightGreen', italic=True, thick_border='top, left, bottom, right')\n",
      "t.set_cell_style(2, 0, color='LightBlue', bold=True, no_border='all')\n",
      "t.set_column_style(2, color='Yellow')\n",
      "t.set_row_style(4, color='Orange')\n",
      "t.render()"
     ],
     "language": "python",
     "metadata": {},
     "outputs": [
      {
       "html": [
        "<table><tr><td  style=\"background-color:LightGreen;border-left: 3px solid black;border-right: 3px solid black;border-top: 3px solid black;border-bottom: 2px solid black;\"><i>$0.15</i></td><td  style=\"border-left: 3px solid black;\">$0.95</td><td  style=\"background-color:Yellow;\">$0.60</td><td >$0.63</td><td >$0.74</td><td >$0.06</td></tr><tr><td  style=\"border-top: 3px solid black;border-bottom: 1px solid transparent;\">$0.62</td><td >$0.06</td><td  style=\"background-color:Yellow;\">$0.07</td><td >$0.15</td><td >$0.92</td><td >$0.81</td></tr><tr><td  style=\"background-color:LightBlue;border-left: 1px solid transparent;border-right: 1px solid transparent;border-top: 1px solid transparent;border-bottom: 1px solid transparent;\"><b>$0.50</b></td><td >$0.63</td><td  style=\"background-color:Yellow;\">$0.79</td><td >$0.65</td><td >$0.41</td><td >$0.61</td></tr><tr><td >$0.82</td><td >$0.66</td><td  style=\"background-color:Yellow;\">$0.54</td><td >$0.41</td><td >$0.17</td><td >$0.12</td></tr><tr><td  style=\"background-color:Orange;\">$0.21</td><td  style=\"background-color:Orange;\">$0.72</td><td  style=\"background-color:Orange;\">$0.63</td><td  style=\"background-color:Orange;\">$0.58</td><td  style=\"background-color:Orange;\">$0.79</td><td  style=\"background-color:Orange;\">$0.75</td></tr><tr><td >$0.55</td><td >$0.86</td><td  style=\"background-color:Yellow;\">$0.40</td><td >$0.72</td><td >$0.23</td><td >$0.29</td></tr><tr><td >$0.28</td><td >$0.26</td><td  style=\"background-color:Yellow;\">$0.83</td><td >$0.98</td><td >$0.22</td><td >$0.91</td></tr><tr><td >$0.65</td><td >$0.95</td><td  style=\"background-color:Yellow;\">$0.24</td><td >$0.42</td><td >$0.64</td><td >$0.79</td></tr>"
       ],
       "output_type": "pyout",
       "prompt_number": 12,
       "text": [
        "<IPython.core.display.HTML at 0xa1a0d4c>"
       ]
      }
     ],
     "prompt_number": 12
    },
    {
     "cell_type": "code",
     "collapsed": false,
     "input": [
      "t.apply_style('basic')\n",
      "t.render()"
     ],
     "language": "python",
     "metadata": {},
     "outputs": [
      {
       "html": [
        "<table><tr><td  style=\"background-color:White;border-left: 3px solid black;border-right: 3px solid black;border-top: 3px solid black;border-bottom: 2px solid black;border-left: 1px solid transparent;border-top: 1px solid transparent;\"><i><b>$0.15</b></i></td><td  style=\"background-color:LightGray;border-left: 3px solid black;\"><b>$0.95</b></td><td  style=\"background-color:LightGray;\"><b>$0.60</b></td><td  style=\"background-color:LightGray;\"><b>$0.63</b></td><td  style=\"background-color:LightGray;\"><b>$0.74</b></td><td  style=\"background-color:LightGray;\"><b>$0.06</b></td></tr><tr><td  style=\"background-color:LightGray;border-top: 3px solid black;border-bottom: 1px solid transparent;\"><b>$0.62</b></td><td  style=\"background-color:Ivory;\">$0.06</td><td  style=\"background-color:Ivory;\">$0.07</td><td  style=\"background-color:Ivory;\">$0.15</td><td  style=\"background-color:Ivory;\">$0.92</td><td  style=\"background-color:Ivory;\">$0.81</td></tr><tr><td  style=\"background-color:LightGray;border-left: 1px solid transparent;border-right: 1px solid transparent;border-top: 1px solid transparent;border-bottom: 1px solid transparent;\"><b>$0.50</b></td><td  style=\"background-color:AliceBlue;\">$0.63</td><td  style=\"background-color:AliceBlue;\">$0.79</td><td  style=\"background-color:AliceBlue;\">$0.65</td><td  style=\"background-color:AliceBlue;\">$0.41</td><td  style=\"background-color:AliceBlue;\">$0.61</td></tr><tr><td  style=\"background-color:LightGray;\"><b>$0.82</b></td><td  style=\"background-color:Ivory;\">$0.66</td><td  style=\"background-color:Ivory;\">$0.54</td><td  style=\"background-color:Ivory;\">$0.41</td><td  style=\"background-color:Ivory;\">$0.17</td><td  style=\"background-color:Ivory;\">$0.12</td></tr><tr><td  style=\"background-color:LightGray;\"><b>$0.21</b></td><td  style=\"background-color:AliceBlue;\">$0.72</td><td  style=\"background-color:AliceBlue;\">$0.63</td><td  style=\"background-color:AliceBlue;\">$0.58</td><td  style=\"background-color:AliceBlue;\">$0.79</td><td  style=\"background-color:AliceBlue;\">$0.75</td></tr><tr><td  style=\"background-color:LightGray;\"><b>$0.55</b></td><td  style=\"background-color:Ivory;\">$0.86</td><td  style=\"background-color:Ivory;\">$0.40</td><td  style=\"background-color:Ivory;\">$0.72</td><td  style=\"background-color:Ivory;\">$0.23</td><td  style=\"background-color:Ivory;\">$0.29</td></tr><tr><td  style=\"background-color:LightGray;\"><b>$0.28</b></td><td  style=\"background-color:AliceBlue;\">$0.26</td><td  style=\"background-color:AliceBlue;\">$0.83</td><td  style=\"background-color:AliceBlue;\">$0.98</td><td  style=\"background-color:AliceBlue;\">$0.22</td><td  style=\"background-color:AliceBlue;\">$0.91</td></tr><tr><td  style=\"background-color:LightGray;\"><b>$0.65</b></td><td  style=\"background-color:Ivory;\">$0.95</td><td  style=\"background-color:Ivory;\">$0.24</td><td  style=\"background-color:Ivory;\">$0.42</td><td  style=\"background-color:Ivory;\">$0.64</td><td  style=\"background-color:Ivory;\">$0.79</td></tr>"
       ],
       "output_type": "pyout",
       "prompt_number": 13,
       "text": [
        "<IPython.core.display.HTML at 0xa0f40ec>"
       ]
      }
     ],
     "prompt_number": 13
    }
   ],
   "metadata": {}
  }
 ]
}