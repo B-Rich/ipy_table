{
 "metadata": {
  "name": "ipy_table-Test"
 },
 "nbformat": 3,
 "nbformat_minor": 0,
 "worksheets": [
  {
   "cells": [
    {
     "cell_type": "code",
     "collapsed": false,
     "input": [
      "from ipy_table import *"
     ],
     "language": "python",
     "metadata": {},
     "outputs": [],
     "prompt_number": 1
    },
    {
     "cell_type": "heading",
     "level": 1,
     "metadata": {},
     "source": [
      "Interactive Interface"
     ]
    },
    {
     "cell_type": "code",
     "collapsed": false,
     "input": [
      "a = [rand(6) for i in range(8)]\n",
      "make_table(a, float_format='$%4.2f')"
     ],
     "language": "python",
     "metadata": {},
     "outputs": [
      {
       "html": [
        "<table border=\"1\" cellpadding=\"3\" cellspacing=\"0\" style=\"border:1px solid black;width:10%;border-collapse:collapse;\"><tr><td >$0.89</td><td >$0.03</td><td >$0.50</td><td >$0.65</td><td >$0.97</td><td >$0.60</td></tr><tr><td >$0.15</td><td >$0.78</td><td >$0.84</td><td >$0.71</td><td >$0.55</td><td >$0.82</td></tr><tr><td >$0.40</td><td >$0.49</td><td >$0.13</td><td >$0.13</td><td >$0.91</td><td >$0.44</td></tr><tr><td >$0.46</td><td >$0.42</td><td >$0.07</td><td >$0.44</td><td >$1.00</td><td >$0.48</td></tr><tr><td >$0.87</td><td >$0.81</td><td >$0.28</td><td >$0.69</td><td >$0.74</td><td >$0.50</td></tr><tr><td >$0.18</td><td >$0.56</td><td >$0.51</td><td >$0.30</td><td >$0.10</td><td >$0.90</td></tr><tr><td >$0.40</td><td >$0.08</td><td >$0.94</td><td >$0.61</td><td >$0.45</td><td >$0.29</td></tr><tr><td >$0.34</td><td >$0.22</td><td >$0.29</td><td >$0.63</td><td >$0.37</td><td >$0.13</td></tr>"
       ],
       "output_type": "pyout",
       "prompt_number": 2,
       "text": [
        "<IPython.core.display.HTML at 0xa440f0c>"
       ]
      }
     ],
     "prompt_number": 2
    },
    {
     "cell_type": "code",
     "collapsed": false,
     "input": [
      "set_cell_style(1, 1, color='LightGreen', italic=True, thick_border='top, left, bottom, right')\n",
      "set_cell_style(3, 1, color='LightBlue', bold=True, no_border='all')\n",
      "set_column_style(3, color='Yellow')\n",
      "set_row_style(5, color='Orange')\n",
      "set_cell_style(0, 4, column_span=2, color='Sienna')\n",
      "set_cell_style(6, 0, row_span=2, color='Sienna')"
     ],
     "language": "python",
     "metadata": {},
     "outputs": [
      {
       "html": [
        "<table border=\"1\" cellpadding=\"3\" cellspacing=\"0\" style=\"border:1px solid black;width:10%;border-collapse:collapse;\"><tr><td >$0.89</td><td >$0.03</td><td >$0.50</td><td  style=\"background-color:Yellow;\">$0.65</td><td colspan=\"2\"; style=\"background-color:Sienna;\">$0.97</td></tr><tr><td >$0.15</td><td  style=\"background-color:LightGreen;border-left: 3px solid black;border-right: 3px solid black;border-top: 3px solid black;border-bottom: 3px solid black;\"><i>$0.78</i></td><td  style=\"border-left: 3px solid black;\">$0.84</td><td  style=\"background-color:Yellow;\">$0.71</td><td >$0.55</td><td >$0.82</td></tr><tr><td >$0.40</td><td  style=\"border-top: 3px solid black;border-bottom: 1px solid transparent;\">$0.49</td><td >$0.13</td><td  style=\"background-color:Yellow;\">$0.13</td><td >$0.91</td><td >$0.44</td></tr><tr><td  style=\"border-right: 1px solid transparent;\">$0.46</td><td  style=\"background-color:LightBlue;border-left: 1px solid transparent;border-right: 1px solid transparent;border-top: 1px solid transparent;border-bottom: 1px solid transparent;\"><b>$0.42</b></td><td >$0.07</td><td  style=\"background-color:Yellow;\">$0.44</td><td >$1.00</td><td >$0.48</td></tr><tr><td >$0.87</td><td >$0.81</td><td >$0.28</td><td  style=\"background-color:Yellow;\">$0.69</td><td >$0.74</td><td >$0.50</td></tr><tr><td  style=\"background-color:Orange;\">$0.18</td><td  style=\"background-color:Orange;\">$0.56</td><td  style=\"background-color:Orange;\">$0.51</td><td  style=\"background-color:Orange;\">$0.30</td><td  style=\"background-color:Orange;\">$0.10</td><td  style=\"background-color:Orange;\">$0.90</td></tr><tr><td rowspan=\"2\"; style=\"background-color:Sienna;\">$0.40</td><td >$0.08</td><td >$0.94</td><td  style=\"background-color:Yellow;\">$0.61</td><td >$0.45</td><td >$0.29</td></tr><tr><td >$0.22</td><td >$0.29</td><td  style=\"background-color:Yellow;\">$0.63</td><td >$0.37</td><td >$0.13</td></tr>"
       ],
       "output_type": "pyout",
       "prompt_number": 3,
       "text": [
        "<IPython.core.display.HTML at 0xa44486c>"
       ]
      }
     ],
     "prompt_number": 3
    },
    {
     "cell_type": "code",
     "collapsed": false,
     "input": [
      "apply_style('basic')"
     ],
     "language": "python",
     "metadata": {},
     "outputs": [
      {
       "html": [
        "<table border=\"1\" cellpadding=\"3\" cellspacing=\"0\" style=\"border:1px solid black;width:10%;border-collapse:collapse;\"><tr><td  style=\"background-color:LightGray;\"><b>$0.89</b></td><td  style=\"background-color:LightGray;\"><b>$0.03</b></td><td  style=\"background-color:LightGray;\"><b>$0.50</b></td><td  style=\"background-color:LightGray;\"><b>$0.65</b></td><td colspan=\"2\"; style=\"background-color:LightGray;\"><b>$0.97</b></td></tr><tr><td  style=\"background-color:Ivory;\">$0.15</td><td  style=\"background-color:Ivory;border-left: 3px solid black;border-right: 3px solid black;border-top: 3px solid black;border-bottom: 3px solid black;\"><i>$0.78</i></td><td  style=\"background-color:Ivory;border-left: 3px solid black;\">$0.84</td><td  style=\"background-color:Ivory;\">$0.71</td><td  style=\"background-color:Ivory;\">$0.55</td><td  style=\"background-color:Ivory;\">$0.82</td></tr><tr><td  style=\"background-color:AliceBlue;\">$0.40</td><td  style=\"background-color:AliceBlue;border-top: 3px solid black;border-bottom: 1px solid transparent;\">$0.49</td><td  style=\"background-color:AliceBlue;\">$0.13</td><td  style=\"background-color:AliceBlue;\">$0.13</td><td  style=\"background-color:AliceBlue;\">$0.91</td><td  style=\"background-color:AliceBlue;\">$0.44</td></tr><tr><td  style=\"background-color:Ivory;border-right: 1px solid transparent;\">$0.46</td><td  style=\"background-color:Ivory;border-left: 1px solid transparent;border-right: 1px solid transparent;border-top: 1px solid transparent;border-bottom: 1px solid transparent;\"><b>$0.42</b></td><td  style=\"background-color:Ivory;\">$0.07</td><td  style=\"background-color:Ivory;\">$0.44</td><td  style=\"background-color:Ivory;\">$1.00</td><td  style=\"background-color:Ivory;\">$0.48</td></tr><tr><td  style=\"background-color:AliceBlue;\">$0.87</td><td  style=\"background-color:AliceBlue;\">$0.81</td><td  style=\"background-color:AliceBlue;\">$0.28</td><td  style=\"background-color:AliceBlue;\">$0.69</td><td  style=\"background-color:AliceBlue;\">$0.74</td><td  style=\"background-color:AliceBlue;\">$0.50</td></tr><tr><td  style=\"background-color:Ivory;\">$0.18</td><td  style=\"background-color:Ivory;\">$0.56</td><td  style=\"background-color:Ivory;\">$0.51</td><td  style=\"background-color:Ivory;\">$0.30</td><td  style=\"background-color:Ivory;\">$0.10</td><td  style=\"background-color:Ivory;\">$0.90</td></tr><tr><td rowspan=\"2\"; style=\"background-color:AliceBlue;\">$0.40</td><td  style=\"background-color:AliceBlue;\">$0.08</td><td  style=\"background-color:AliceBlue;\">$0.94</td><td  style=\"background-color:AliceBlue;\">$0.61</td><td  style=\"background-color:AliceBlue;\">$0.45</td><td  style=\"background-color:AliceBlue;\">$0.29</td></tr><tr><td  style=\"background-color:Ivory;\">$0.22</td><td  style=\"background-color:Ivory;\">$0.29</td><td  style=\"background-color:Ivory;\">$0.63</td><td  style=\"background-color:Ivory;\">$0.37</td><td  style=\"background-color:Ivory;\">$0.13</td></tr>"
       ],
       "output_type": "pyout",
       "prompt_number": 4,
       "text": [
        "<IPython.core.display.HTML at 0xa440c4c>"
       ]
      }
     ],
     "prompt_number": 4
    },
    {
     "cell_type": "code",
     "collapsed": false,
     "input": [
      "a = [rand(2) for i in range(2)]\n",
      "make_table(a, float_format='$%4.2f', debug=True)\n",
      "set_cell_style(0, 0, thick_border='all')\n",
      "set_cell_style(1, 1, thick_border='all')"
     ],
     "language": "python",
     "metadata": {},
     "outputs": [
      {
       "output_type": "stream",
       "stream": "stdout",
       "text": [
        "<table border=\"1\" cellpadding=\"3\" cellspacing=\"0\" style=\"border:1px solid black;width:10%;border-collapse:collapse;\"><tr><td >$0.97</td><td >$0.29</td></tr><tr><td >$0.32</td><td >$0.16</td></tr>\n",
        "<table border=\"1\" cellpadding=\"3\" cellspacing=\"0\" style=\"border:1px solid black;width:10%;border-collapse:collapse;\"><tr><td  style=\"border-left: 3px solid black;border-right: 3px solid black;border-top: 3px solid black;border-bottom: 3px solid black;\">$0.97</td><td  style=\"border-left: 3px solid black;\">$0.29</td></tr><tr><td  style=\"border-top: 3px solid black;\">$0.32</td><td >$0.16</td></tr>\n",
        "<table border=\"1\" cellpadding=\"3\" cellspacing=\"0\" style=\"border:1px solid black;width:10%;border-collapse:collapse;\"><tr><td  style=\"border-left: 3px solid black;border-right: 3px solid black;border-top: 3px solid black;border-bottom: 3px solid black;\">$0.97</td><td  style=\"border-left: 3px solid black;\">$0.29</td></tr><tr><td  style=\"border-top: 3px solid black;\">$0.32</td><td  style=\"border-left: 3px solid black;border-right: 3px solid black;border-top: 3px solid black;border-bottom: 3px solid black;\">$0.16</td></tr>\n"
       ]
      },
      {
       "html": [
        "<table border=\"1\" cellpadding=\"3\" cellspacing=\"0\" style=\"border:1px solid black;width:10%;border-collapse:collapse;\"><tr><td  style=\"border-left: 3px solid black;border-right: 3px solid black;border-top: 3px solid black;border-bottom: 3px solid black;\">$0.97</td><td  style=\"border-left: 3px solid black;\">$0.29</td></tr><tr><td  style=\"border-top: 3px solid black;\">$0.32</td><td  style=\"border-left: 3px solid black;border-right: 3px solid black;border-top: 3px solid black;border-bottom: 3px solid black;\">$0.16</td></tr>"
       ],
       "output_type": "pyout",
       "prompt_number": 5,
       "text": [
        "<IPython.core.display.HTML at 0xa440eec>"
       ]
      }
     ],
     "prompt_number": 5
    },
    {
     "cell_type": "code",
     "collapsed": false,
     "input": [
      "a = [rand(2) for i in range(2)]\n",
      "make_table(a, float_format='$%4.2f')\n",
      "set_cell_style(0, 0, no_border='all')\n",
      "set_cell_style(1, 1, no_border='all')"
     ],
     "language": "python",
     "metadata": {},
     "outputs": [
      {
       "html": [
        "<table border=\"1\" cellpadding=\"3\" cellspacing=\"0\" style=\"border:1px solid black;width:10%;border-collapse:collapse;\"><tr><td  style=\"border-left: 1px solid transparent;border-right: 1px solid transparent;border-top: 1px solid transparent;border-bottom: 1px solid transparent;\">$0.17</td><td  style=\"border-bottom: 1px solid transparent;\">$0.03</td></tr><tr><td  style=\"border-right: 1px solid transparent;\">$0.08</td><td  style=\"border-left: 1px solid transparent;border-right: 1px solid transparent;border-top: 1px solid transparent;border-bottom: 1px solid transparent;\">$0.47</td></tr>"
       ],
       "output_type": "pyout",
       "prompt_number": 6,
       "text": [
        "<IPython.core.display.HTML at 0xa43af0c>"
       ]
      }
     ],
     "prompt_number": 6
    },
    {
     "cell_type": "code",
     "collapsed": false,
     "input": [
      "a = [['Testing' for i in range(3)] for j in range(2)]\n",
      "a[0][0]='a'\n",
      "make_table(a, float_format='$%4.3f', debug=True)\n",
      "set_row_style(0, width='300')\n",
      "set_cell_style(0,0,align='right')"
     ],
     "language": "python",
     "metadata": {},
     "outputs": [
      {
       "output_type": "stream",
       "stream": "stdout",
       "text": [
        "<table border=\"1\" cellpadding=\"3\" cellspacing=\"0\" style=\"border:1px solid black;width:10%;border-collapse:collapse;\"><tr><td >a</td><td >Testing</td><td >Testing</td></tr><tr><td >Testing</td><td >Testing</td><td >Testing</td></tr>\n",
        "<table border=\"1\" cellpadding=\"3\" cellspacing=\"0\" style=\"border:1px solid black;width:10%;border-collapse:collapse;\"><tr><td  style=\"width:300px;\">a</td><td  style=\"width:300px;\">Testing</td><td  style=\"width:300px;\">Testing</td></tr><tr><td >Testing</td><td >Testing</td><td >Testing</td></tr>\n",
        "<table border=\"1\" cellpadding=\"3\" cellspacing=\"0\" style=\"border:1px solid black;width:10%;border-collapse:collapse;\"><tr><td  style=\"text-align:right;width:300px;\">a</td><td  style=\"width:300px;\">Testing</td><td  style=\"width:300px;\">Testing</td></tr><tr><td >Testing</td><td >Testing</td><td >Testing</td></tr>\n"
       ]
      },
      {
       "html": [
        "<table border=\"1\" cellpadding=\"3\" cellspacing=\"0\" style=\"border:1px solid black;width:10%;border-collapse:collapse;\"><tr><td  style=\"text-align:right;width:300px;\">a</td><td  style=\"width:300px;\">Testing</td><td  style=\"width:300px;\">Testing</td></tr><tr><td >Testing</td><td >Testing</td><td >Testing</td></tr>"
       ],
       "output_type": "pyout",
       "prompt_number": 7,
       "text": [
        "<IPython.core.display.HTML at 0xa440ecc>"
       ]
      }
     ],
     "prompt_number": 7
    },
    {
     "cell_type": "code",
     "collapsed": false,
     "input": [
      "text='<table border=\"1\" cellpadding=\"3\" cellspacing=\"0\" style=\"border:1px none white;width:10%;border-collapse:collapse;\"><tr><td align=\"center\">a</td><td >Testing</td><td >Testing</td></tr><tr><td >Testing</td><td >Testing</td><td >Testing</td></tr>'"
     ],
     "language": "python",
     "metadata": {},
     "outputs": [],
     "prompt_number": 8
    },
    {
     "cell_type": "code",
     "collapsed": false,
     "input": [
      "HTML(text)"
     ],
     "language": "python",
     "metadata": {},
     "outputs": [
      {
       "html": [
        "<table border=\"1\" cellpadding=\"3\" cellspacing=\"0\" style=\"border:1px none white;width:10%;border-collapse:collapse;\"><tr><td align=\"center\">a</td><td >Testing</td><td >Testing</td></tr><tr><td >Testing</td><td >Testing</td><td >Testing</td></tr>"
       ],
       "output_type": "pyout",
       "prompt_number": 9,
       "text": [
        "<IPython.core.display.HTML at 0xa44450c>"
       ]
      }
     ],
     "prompt_number": 9
    },
    {
     "cell_type": "code",
     "collapsed": false,
     "input": [
      "HTML('<!DOCTYPE HTML PUBLIC \"-//W3C//DTD HTML 4.01//EN\" \"http://www.w3.org/TR/html4/loose.dtd\"><HTML>' + text + '</HTML>')"
     ],
     "language": "python",
     "metadata": {},
     "outputs": [
      {
       "html": [
        "<!DOCTYPE HTML PUBLIC \"-//W3C//DTD HTML 4.01//EN\" \"http://www.w3.org/TR/html4/loose.dtd\"><HTML><table border=\"1\" cellpadding=\"3\" cellspacing=\"0\" style=\"border:1px none white;width:10%;border-collapse:collapse;\"><tr><td align=\"center\">a</td><td >Testing</td><td >Testing</td></tr><tr><td >Testing</td><td >Testing</td><td >Testing</td></tr></HTML>"
       ],
       "output_type": "pyout",
       "prompt_number": 10,
       "text": [
        "<IPython.core.display.HTML at 0xa44426c>"
       ]
      }
     ],
     "prompt_number": 10
    },
    {
     "cell_type": "heading",
     "level": 1,
     "metadata": {},
     "source": [
      "Tabulate"
     ]
    },
    {
     "cell_type": "code",
     "collapsed": false,
     "input": [
      "tabulate(rand(15), 4)"
     ],
     "language": "python",
     "metadata": {},
     "outputs": [
      {
       "html": [
        "<table border=\"1\" cellpadding=\"3\" cellspacing=\"0\" style=\"border:1px solid black;width:10%;border-collapse:collapse;\"><tr><td >0.3728</td><td >0.5656</td><td >0.7296</td><td >0.5153</td></tr><tr><td >0.4641</td><td >0.6531</td><td >0.7973</td><td >0.3956</td></tr><tr><td >0.7269</td><td >0.8956</td><td >0.9513</td><td >0.8568</td></tr><tr><td >0.0128</td><td >0.3119</td><td >0.8221</td><td ></td></tr>"
       ],
       "output_type": "pyout",
       "prompt_number": 11,
       "text": [
        "<IPython.core.display.HTML at 0xa44464c>"
       ]
      }
     ],
     "prompt_number": 11
    },
    {
     "cell_type": "heading",
     "level": 1,
     "metadata": {},
     "source": [
      "Object Interface"
     ]
    },
    {
     "cell_type": "code",
     "collapsed": false,
     "input": [
      "a = [rand(6) for i in range(8)]\n",
      "t = IpyTable(a, float_format='$%4.2f')\n",
      "t.set_cell_style(0, 0, color='LightGreen', italic=True, thick_border='top, left, bottom, right')\n",
      "t.set_cell_style(2, 0, color='LightBlue', bold=True, no_border='all')\n",
      "t.set_column_style(2, color='Yellow')\n",
      "t.set_row_style(4, color='Orange')\n",
      "t.render()"
     ],
     "language": "python",
     "metadata": {},
     "outputs": [
      {
       "html": [
        "<table border=\"1\" cellpadding=\"3\" cellspacing=\"0\" style=\"border:1px solid black;width:10%;border-collapse:collapse;\"><tr><td  style=\"background-color:LightGreen;border-left: 3px solid black;border-right: 3px solid black;border-top: 3px solid black;border-bottom: 3px solid black;\"><i>$0.91</i></td><td  style=\"border-left: 3px solid black;\">$0.35</td><td  style=\"background-color:Yellow;\">$0.16</td><td >$0.74</td><td >$0.63</td><td >$0.96</td></tr><tr><td  style=\"border-top: 3px solid black;border-bottom: 1px solid transparent;\">$0.06</td><td >$0.52</td><td  style=\"background-color:Yellow;\">$0.22</td><td >$0.10</td><td >$0.35</td><td >$0.67</td></tr><tr><td  style=\"background-color:LightBlue;border-left: 1px solid transparent;border-right: 1px solid transparent;border-top: 1px solid transparent;border-bottom: 1px solid transparent;\"><b>$0.31</b></td><td >$0.45</td><td  style=\"background-color:Yellow;\">$0.92</td><td >$0.93</td><td >$0.53</td><td >$0.29</td></tr><tr><td >$0.37</td><td >$0.72</td><td  style=\"background-color:Yellow;\">$0.48</td><td >$0.95</td><td >$0.97</td><td >$0.79</td></tr><tr><td  style=\"background-color:Orange;\">$0.02</td><td  style=\"background-color:Orange;\">$0.14</td><td  style=\"background-color:Orange;\">$0.83</td><td  style=\"background-color:Orange;\">$0.09</td><td  style=\"background-color:Orange;\">$0.33</td><td  style=\"background-color:Orange;\">$0.46</td></tr><tr><td >$0.02</td><td >$0.43</td><td  style=\"background-color:Yellow;\">$0.38</td><td >$0.49</td><td >$0.28</td><td >$0.58</td></tr><tr><td >$0.53</td><td >$0.61</td><td  style=\"background-color:Yellow;\">$0.19</td><td >$0.48</td><td >$0.94</td><td >$0.99</td></tr><tr><td >$0.33</td><td >$0.08</td><td  style=\"background-color:Yellow;\">$0.91</td><td >$0.55</td><td >$0.58</td><td >$0.61</td></tr>"
       ],
       "output_type": "pyout",
       "prompt_number": 12,
       "text": [
        "<IPython.core.display.HTML at 0xa43af8c>"
       ]
      }
     ],
     "prompt_number": 12
    },
    {
     "cell_type": "code",
     "collapsed": false,
     "input": [
      "t.apply_style('basic')\n",
      "t.render()"
     ],
     "language": "python",
     "metadata": {},
     "outputs": [
      {
       "html": [
        "<table border=\"1\" cellpadding=\"3\" cellspacing=\"0\" style=\"border:1px solid black;width:10%;border-collapse:collapse;\"><tr><td  style=\"background-color:LightGray;border-left: 3px solid black;border-right: 3px solid black;border-top: 3px solid black;border-bottom: 3px solid black;\"><i><b>$0.91</b></i></td><td  style=\"background-color:LightGray;border-left: 3px solid black;\"><b>$0.35</b></td><td  style=\"background-color:LightGray;\"><b>$0.16</b></td><td  style=\"background-color:LightGray;\"><b>$0.74</b></td><td  style=\"background-color:LightGray;\"><b>$0.63</b></td><td  style=\"background-color:LightGray;\"><b>$0.96</b></td></tr><tr><td  style=\"background-color:Ivory;border-top: 3px solid black;border-bottom: 1px solid transparent;\">$0.06</td><td  style=\"background-color:Ivory;\">$0.52</td><td  style=\"background-color:Ivory;\">$0.22</td><td  style=\"background-color:Ivory;\">$0.10</td><td  style=\"background-color:Ivory;\">$0.35</td><td  style=\"background-color:Ivory;\">$0.67</td></tr><tr><td  style=\"background-color:AliceBlue;border-left: 1px solid transparent;border-right: 1px solid transparent;border-top: 1px solid transparent;border-bottom: 1px solid transparent;\"><b>$0.31</b></td><td  style=\"background-color:AliceBlue;\">$0.45</td><td  style=\"background-color:AliceBlue;\">$0.92</td><td  style=\"background-color:AliceBlue;\">$0.93</td><td  style=\"background-color:AliceBlue;\">$0.53</td><td  style=\"background-color:AliceBlue;\">$0.29</td></tr><tr><td  style=\"background-color:Ivory;\">$0.37</td><td  style=\"background-color:Ivory;\">$0.72</td><td  style=\"background-color:Ivory;\">$0.48</td><td  style=\"background-color:Ivory;\">$0.95</td><td  style=\"background-color:Ivory;\">$0.97</td><td  style=\"background-color:Ivory;\">$0.79</td></tr><tr><td  style=\"background-color:AliceBlue;\">$0.02</td><td  style=\"background-color:AliceBlue;\">$0.14</td><td  style=\"background-color:AliceBlue;\">$0.83</td><td  style=\"background-color:AliceBlue;\">$0.09</td><td  style=\"background-color:AliceBlue;\">$0.33</td><td  style=\"background-color:AliceBlue;\">$0.46</td></tr><tr><td  style=\"background-color:Ivory;\">$0.02</td><td  style=\"background-color:Ivory;\">$0.43</td><td  style=\"background-color:Ivory;\">$0.38</td><td  style=\"background-color:Ivory;\">$0.49</td><td  style=\"background-color:Ivory;\">$0.28</td><td  style=\"background-color:Ivory;\">$0.58</td></tr><tr><td  style=\"background-color:AliceBlue;\">$0.53</td><td  style=\"background-color:AliceBlue;\">$0.61</td><td  style=\"background-color:AliceBlue;\">$0.19</td><td  style=\"background-color:AliceBlue;\">$0.48</td><td  style=\"background-color:AliceBlue;\">$0.94</td><td  style=\"background-color:AliceBlue;\">$0.99</td></tr><tr><td  style=\"background-color:Ivory;\">$0.33</td><td  style=\"background-color:Ivory;\">$0.08</td><td  style=\"background-color:Ivory;\">$0.91</td><td  style=\"background-color:Ivory;\">$0.55</td><td  style=\"background-color:Ivory;\">$0.58</td><td  style=\"background-color:Ivory;\">$0.61</td></tr>"
       ],
       "output_type": "pyout",
       "prompt_number": 13,
       "text": [
        "<IPython.core.display.HTML at 0xa44482c>"
       ]
      }
     ],
     "prompt_number": 13
    },
    {
     "cell_type": "code",
     "collapsed": false,
     "input": [],
     "language": "python",
     "metadata": {},
     "outputs": [],
     "prompt_number": 13
    }
   ],
   "metadata": {}
  }
 ]
}