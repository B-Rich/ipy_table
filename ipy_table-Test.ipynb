{
 "metadata": {
  "name": "ipy_table-Test"
 },
 "nbformat": 3,
 "nbformat_minor": 0,
 "worksheets": [
  {
   "cells": [
    {
     "cell_type": "heading",
     "level": 3,
     "metadata": {},
     "source": [
      "Badly formed array"
     ]
    },
    {
     "cell_type": "code",
     "collapsed": false,
     "input": [
      "from ipy_table import *\n",
      "array = [[0, 1, 2], [3, 4]]\n",
      "try:\n",
      "    t = IpyTable(array)\n",
      "except ValueError:\n",
      "    print 'Pass'\n",
      "else:\n",
      "    print 'Fail'"
     ],
     "language": "python",
     "metadata": {},
     "outputs": [
      {
       "output_type": "stream",
       "stream": "stdout",
       "text": [
        "Pass\n"
       ]
      }
     ],
     "prompt_number": 1
    },
    {
     "cell_type": "heading",
     "level": 3,
     "metadata": {},
     "source": [
      "Row range checking"
     ]
    },
    {
     "cell_type": "code",
     "collapsed": false,
     "input": [
      "array = [[0, 1], [2, 3]]\n",
      "t = IpyTable(array)\n",
      "try:\n",
      "    t.set_cell_style(2, 0, color='red')\n",
      "except ValueError, error_text:\n",
      "    print 'Pass (%s)' % error_text\n",
      "else:\n",
      "    print 'Fail'"
     ],
     "language": "python",
     "metadata": {},
     "outputs": [
      {
       "output_type": "stream",
       "stream": "stdout",
       "text": [
        "Pass (Bad row (2).  Expected row in range 0 to 1.)\n"
       ]
      }
     ],
     "prompt_number": 2
    },
    {
     "cell_type": "heading",
     "level": 3,
     "metadata": {},
     "source": [
      "Unknown Theme"
     ]
    },
    {
     "cell_type": "code",
     "collapsed": false,
     "input": [
      "array = [[0, 1], [2, 3]]\n",
      "t = IpyTable(array)\n",
      "try:\n",
      "    t.apply_theme(\"monty\")\n",
      "except ValueError, error_text:\n",
      "    print 'Pass (%s)' % error_text\n",
      "else:\n",
      "    print 'Fail'"
     ],
     "language": "python",
     "metadata": {},
     "outputs": [
      {
       "output_type": "stream",
       "stream": "stdout",
       "text": [
        "Pass (Unknown theme \"monty\". Expected one of ['basic', 'basic_left', 'basic_both'].)\n"
       ]
      }
     ],
     "prompt_number": 3
    },
    {
     "cell_type": "heading",
     "level": 3,
     "metadata": {},
     "source": [
      "Random Styles"
     ]
    },
    {
     "cell_type": "code",
     "collapsed": false,
     "input": [
      "import random\n",
      "import string \n",
      "import ipy_table as ipt\n",
      "\n",
      "width = randint(1,6)\n",
      "height = randint(1,6)\n",
      "array = [[None for column in range(width)] for row in range(height)]\n",
      "for row in range(height):\n",
      "    for column in range(width):\n",
      "        array[row][column] = random.choice([\n",
      "            random.random()*1000000,\n",
      "            ''.join(random.choice(string.ascii_uppercase + string.digits) for x in range(randint(1,14))), \n",
      "            randint(1000000)])\n",
      "make_table(array)\n",
      "for i in range(20):\n",
      "    row = randint(height)\n",
      "    column = randint(width)\n",
      "    style = random.choice(['color', 'bold', 'thick_border', 'no_border'])\n",
      "    if style == 'color':\n",
      "        set_cell_style(row, column, color=random.choice(['red', 'blue', 'green']))\n",
      "    elif style == 'bold':\n",
      "        set_cell_style(row, column, bold=True)\n",
      "    elif style == 'thick_border':\n",
      "        set_cell_style(row, column, thick_border=random.choice(['left', 'right', 'top', 'bottom']))\n",
      "    elif style == 'no_border':\n",
      "        set_cell_style(row, column, no_border=random.choice(['left', 'right', 'top', 'bottom']))\n",
      "        \n",
      "ipt._TABLE"
     ],
     "language": "python",
     "metadata": {},
     "outputs": [
      {
       "html": [
        "<table border=\"1\" cellpadding=\"3\" cellspacing=\"0\"  style=\"border:1px solid black;border-collapse:collapse;\"><tr><td  style=\"background-color:green;border-right: 3px solid black;border-top: 1px solid transparent;\">210898</td><td  style=\"background-color:blue;border-left: 3px solid black;border-right: 3px solid black;\">CJ8UH</td><td  style=\"border-left: 3px solid black;\"><b>88615</b></td><td  style=\"border-top: 1px solid transparent;\"><b>790659</b></td><td  style=\"border-bottom: 1px solid transparent;\"><b>19870</b></td></tr><tr><td  style=\"border-left: 1px solid transparent;border-right: 1px solid transparent;\">943570</td><td><b>MU861NS11</b></td><td  style=\"background-color:red;border-right: 1px solid transparent;\"><b>99452.2053</b></td><td  style=\"background-color:green;border-left: 3px solid black;\"><b>307116.8300</b></td><td>Z</td></tr>"
       ],
       "output_type": "pyout",
       "prompt_number": 5,
       "text": [
        "<ipy_table.IpyTable at 0xb0880ac>"
       ]
      }
     ],
     "prompt_number": 5
    },
    {
     "cell_type": "heading",
     "level": 3,
     "metadata": {},
     "source": [
      "thick_border value checking"
     ]
    },
    {
     "cell_type": "code",
     "collapsed": false,
     "input": [
      "array = [[0, 1], [2, 3]]\n",
      "t = IpyTable(array)\n",
      "try:\n",
      "    t.set_cell_style(0, 0, thick_border=True)\n",
      "except TypeError, error_text:\n",
      "    print 'Pass (%s)' % error_text\n",
      "else:\n",
      "    print 'Fail'"
     ],
     "language": "python",
     "metadata": {},
     "outputs": [
      {
       "output_type": "stream",
       "stream": "stdout",
       "text": [
        "Pass (thick_border must be a string of comma separated border names (e.g. \"left,right\"))\n"
       ]
      }
     ],
     "prompt_number": 6
    },
    {
     "cell_type": "code",
     "collapsed": false,
     "input": [
      "try:\n",
      "    t.set_cell_style(0, 0, thick_border='left + bottom')\n",
      "except ValueError, error_text:\n",
      "    print 'Pass (%s)' % error_text\n",
      "else:\n",
      "    print 'Fail'"
     ],
     "language": "python",
     "metadata": {},
     "outputs": [
      {
       "output_type": "stream",
       "stream": "stdout",
       "text": [
        "Pass (thick_border must be a string of comma separated border names (e.g. \"left,right\"). Valid border names: set(['left', 'all', 'right', 'top', 'bottom']))\n"
       ]
      }
     ],
     "prompt_number": 7
    },
    {
     "cell_type": "heading",
     "level": 3,
     "metadata": {},
     "source": [
      "no_border value checking"
     ]
    },
    {
     "cell_type": "code",
     "collapsed": false,
     "input": [
      "array = [[0, 1], [2, 3]]\n",
      "t = IpyTable(array)\n",
      "try:\n",
      "    t.set_cell_style(0, 0, no_border=True)\n",
      "except TypeError, error_text:\n",
      "    print 'Pass (%s)' % error_text\n",
      "else:\n",
      "    print 'Fail'"
     ],
     "language": "python",
     "metadata": {},
     "outputs": [
      {
       "output_type": "stream",
       "stream": "stdout",
       "text": [
        "Pass (no_border must be a string of comma separated border names (e.g. \"left,right\"))\n"
       ]
      }
     ],
     "prompt_number": 8
    },
    {
     "cell_type": "code",
     "collapsed": false,
     "input": [
      "try:\n",
      "    t.set_cell_style(0, 0, no_border='left + bottom')\n",
      "except ValueError, error_text:\n",
      "    print 'Pass (%s)' % error_text\n",
      "else:\n",
      "    print 'Fail'"
     ],
     "language": "python",
     "metadata": {},
     "outputs": [
      {
       "output_type": "stream",
       "stream": "stdout",
       "text": [
        "Pass (no_border must be a string of comma separated border names (e.g. \"left,right\"). Valid border names: set(['left', 'all', 'right', 'top', 'bottom']))\n"
       ]
      }
     ],
     "prompt_number": 9
    }
   ],
   "metadata": {}
  }
 ]
}