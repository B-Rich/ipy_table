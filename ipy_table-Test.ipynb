{
 "metadata": {
  "name": "ipy_table-Test"
 },
 "nbformat": 3,
 "nbformat_minor": 0,
 "worksheets": [
  {
   "cells": [
    {
     "cell_type": "heading",
     "level": 3,
     "metadata": {},
     "source": [
      "Badly formed array"
     ]
    },
    {
     "cell_type": "code",
     "collapsed": false,
     "input": [
      "from ipy_table import *\n",
      "array = [[0, 1, 2], [3, 4]]\n",
      "try:\n",
      "    t = IpyTable(array)\n",
      "except ValueError:\n",
      "    print 'Pass'\n",
      "else:\n",
      "    print 'Fail'"
     ],
     "language": "python",
     "metadata": {},
     "outputs": [
      {
       "output_type": "stream",
       "stream": "stdout",
       "text": [
        "Pass\n"
       ]
      }
     ],
     "prompt_number": 1
    },
    {
     "cell_type": "heading",
     "level": 3,
     "metadata": {},
     "source": [
      "Row range checking"
     ]
    },
    {
     "cell_type": "code",
     "collapsed": false,
     "input": [
      "array = [[0, 1], [2, 3]]\n",
      "t = IpyTable(array)\n",
      "t.set_cell_style(2, 0, color='red')"
     ],
     "language": "python",
     "metadata": {},
     "outputs": [
      {
       "ename": "ValueError",
       "evalue": "Bad row number (2).  Expected in range 0 to 1.",
       "output_type": "pyerr",
       "traceback": [
        "\u001b[1;31m---------------------------------------------------------------------------\u001b[0m\n\u001b[1;31mValueError\u001b[0m                                Traceback (most recent call last)",
        "\u001b[1;32m<ipython-input-3-3affc1c887b1>\u001b[0m in \u001b[0;36m<module>\u001b[1;34m()\u001b[0m\n\u001b[0;32m      1\u001b[0m \u001b[0marray\u001b[0m \u001b[1;33m=\u001b[0m \u001b[1;33m[\u001b[0m\u001b[1;33m[\u001b[0m\u001b[1;36m0\u001b[0m\u001b[1;33m,\u001b[0m \u001b[1;36m1\u001b[0m\u001b[1;33m]\u001b[0m\u001b[1;33m,\u001b[0m \u001b[1;33m[\u001b[0m\u001b[1;36m2\u001b[0m\u001b[1;33m,\u001b[0m \u001b[1;36m3\u001b[0m\u001b[1;33m]\u001b[0m\u001b[1;33m]\u001b[0m\u001b[1;33m\u001b[0m\u001b[0m\n\u001b[0;32m      2\u001b[0m \u001b[0mt\u001b[0m \u001b[1;33m=\u001b[0m \u001b[0mIpyTable\u001b[0m\u001b[1;33m(\u001b[0m\u001b[0marray\u001b[0m\u001b[1;33m)\u001b[0m\u001b[1;33m\u001b[0m\u001b[0m\n\u001b[1;32m----> 3\u001b[1;33m \u001b[0mt\u001b[0m\u001b[1;33m.\u001b[0m\u001b[0mset_cell_style\u001b[0m\u001b[1;33m(\u001b[0m\u001b[1;36m2\u001b[0m\u001b[1;33m,\u001b[0m\u001b[1;36m0\u001b[0m\u001b[1;33m,\u001b[0m\u001b[0mcolor\u001b[0m\u001b[1;33m=\u001b[0m\u001b[1;34m'red'\u001b[0m\u001b[1;33m)\u001b[0m\u001b[1;33m\u001b[0m\u001b[0m\n\u001b[0m",
        "\u001b[1;32m/home/eric/Applications/ipy-notebook/ipy_table.pyc\u001b[0m in \u001b[0;36mset_cell_style\u001b[1;34m(self, row, column, **style_args)\u001b[0m\n\u001b[0;32m    129\u001b[0m     \u001b[1;32mdef\u001b[0m \u001b[0mset_cell_style\u001b[0m\u001b[1;33m(\u001b[0m\u001b[0mself\u001b[0m\u001b[1;33m,\u001b[0m \u001b[0mrow\u001b[0m\u001b[1;33m,\u001b[0m \u001b[0mcolumn\u001b[0m\u001b[1;33m,\u001b[0m \u001b[1;33m**\u001b[0m\u001b[0mstyle_args\u001b[0m\u001b[1;33m)\u001b[0m\u001b[1;33m:\u001b[0m\u001b[1;33m\u001b[0m\u001b[0m\n\u001b[0;32m    130\u001b[0m         \u001b[1;34m\"\"\"Apply style(s) to a single cell.\"\"\"\u001b[0m\u001b[1;33m\u001b[0m\u001b[0m\n\u001b[1;32m--> 131\u001b[1;33m         \u001b[0mself\u001b[0m\u001b[1;33m.\u001b[0m\u001b[0m_range_check\u001b[0m\u001b[1;33m(\u001b[0m\u001b[0mrow\u001b[0m\u001b[1;33m=\u001b[0m\u001b[0mrow\u001b[0m\u001b[1;33m)\u001b[0m\u001b[1;33m\u001b[0m\u001b[0m\n\u001b[0m\u001b[0;32m    132\u001b[0m         \u001b[0mself\u001b[0m\u001b[1;33m.\u001b[0m\u001b[0m_set_cell_style_norender\u001b[0m\u001b[1;33m(\u001b[0m\u001b[0mrow\u001b[0m\u001b[1;33m,\u001b[0m \u001b[0mcolumn\u001b[0m\u001b[1;33m,\u001b[0m \u001b[1;33m**\u001b[0m\u001b[0mstyle_args\u001b[0m\u001b[1;33m)\u001b[0m\u001b[1;33m\u001b[0m\u001b[0m\n\u001b[0;32m    133\u001b[0m         \u001b[1;32mreturn\u001b[0m \u001b[0mself\u001b[0m\u001b[1;33m.\u001b[0m\u001b[0m_render_update\u001b[0m\u001b[1;33m(\u001b[0m\u001b[1;33m)\u001b[0m\u001b[1;33m\u001b[0m\u001b[0m\n",
        "\u001b[1;32m/home/eric/Applications/ipy-notebook/ipy_table.pyc\u001b[0m in \u001b[0;36m_range_check\u001b[1;34m(self, **check_args)\u001b[0m\n\u001b[0;32m    205\u001b[0m                 raise ValueError(\n\u001b[0;32m    206\u001b[0m                     \u001b[1;34m'Bad row number (%d).  Expected in range 0 to %d.'\u001b[0m \u001b[1;33m%\u001b[0m\u001b[1;33m\u001b[0m\u001b[0m\n\u001b[1;32m--> 207\u001b[1;33m                     (row, self._num_rows - 1))\n\u001b[0m\u001b[0;32m    208\u001b[0m \u001b[1;33m\u001b[0m\u001b[0m\n\u001b[0;32m    209\u001b[0m     \u001b[1;32mdef\u001b[0m \u001b[0mrender\u001b[0m\u001b[1;33m(\u001b[0m\u001b[0mself\u001b[0m\u001b[1;33m)\u001b[0m\u001b[1;33m:\u001b[0m\u001b[1;33m\u001b[0m\u001b[0m\n",
        "\u001b[1;31mValueError\u001b[0m: Bad row number (2).  Expected in range 0 to 1."
       ]
      }
     ],
     "prompt_number": 3
    },
    {
     "cell_type": "heading",
     "level": 3,
     "metadata": {},
     "source": [
      "Unknown Theme"
     ]
    },
    {
     "cell_type": "code",
     "collapsed": false,
     "input": [
      "array = [[0, 1], [2, 3]]\n",
      "t = IpyTable(array)\n",
      "try:\n",
      "    t.apply_theme(\"monty\")\n",
      "except ValueError, error_text:\n",
      "    print 'Pass (%s)' % error_text\n",
      "else:\n",
      "    print 'Fail'"
     ],
     "language": "python",
     "metadata": {},
     "outputs": [
      {
       "output_type": "stream",
       "stream": "stdout",
       "text": [
        "Pass (Unknown theme \"monty\". Expected one of ['basic', 'basic_left', 'basic_both'].)\n"
       ]
      }
     ],
     "prompt_number": 2
    },
    {
     "cell_type": "heading",
     "level": 3,
     "metadata": {},
     "source": [
      "Random Styles"
     ]
    },
    {
     "cell_type": "code",
     "collapsed": false,
     "input": [
      "import random\n",
      "import string \n",
      "import ipy_table as ipt\n",
      "\n",
      "width = randint(1,6)\n",
      "height = randint(1,6)\n",
      "array = [[None for column in range(width)] for row in range(height)]\n",
      "for row in range(height):\n",
      "    for column in range(width):\n",
      "        array[row][column] = random.choice([\n",
      "            random.random()*1000000,\n",
      "            ''.join(random.choice(string.ascii_uppercase + string.digits) for x in range(randint(1,14))), \n",
      "            randint(1000000)])\n",
      "make_table(array)\n",
      "for i in range(20):\n",
      "    row = randint(height)\n",
      "    column = randint(width)\n",
      "    style = random.choice(['color', 'bold', 'thick_border', 'no_border'])\n",
      "    if style == 'color':\n",
      "        set_cell_style(row, column, color=random.choice(['red', 'blue', 'green']))\n",
      "    elif style == 'bold':\n",
      "        set_cell_style(row, column, bold=True)\n",
      "    elif style == 'thick_border':\n",
      "        set_cell_style(row, column, thick_border=random.choice(['left', 'right', 'top', 'bottom']))\n",
      "    elif style == 'no_border':\n",
      "        set_cell_style(row, column, no_border=random.choice(['left', 'right', 'top', 'bottom']))\n",
      "        \n",
      "ipt._TABLE.render()   # Force a redraw"
     ],
     "language": "python",
     "metadata": {},
     "outputs": [
      {
       "html": [
        "<table border=\"1\" cellpadding=\"3\" cellspacing=\"0\"  style=\"border:1px solid black;border-collapse:collapse;\"><tr><td  style=\"border-bottom: 3px solid black;\">GZOGZF0GQQQ</td><td  style=\"background-color:blue;border-top: 3px solid black;border-bottom: 1px solid transparent;\">479210</td><td  style=\"border-bottom: 3px solid black;\"><b>989213.7014</b></td></tr><tr><td  style=\"border-top: 3px solid black;border-left: 1px solid transparent;border-right: 1px solid transparent;border-bottom: 1px solid transparent;\"><b>BKUC</b></td><td  style=\"border-right: 3px solid black;border-left: 1px solid transparent;border-bottom: 1px solid transparent;border-top: 1px solid transparent;\"><b>154200.0671</b></td><td  style=\"background-color:blue;border-left: 3px solid black;\"><b>YQA9PH7101IE</b></td></tr><tr><td  style=\"border-right: 3px solid black;border-right: 1px solid transparent;\">XEGM9</td><td  style=\"border-left: 3px solid black;border-left: 1px solid transparent;border-top: 1px solid transparent;\"><b>266148</b></td><td  style=\"border-bottom: 3px solid black;\">321213</td></tr>"
       ],
       "output_type": "pyout",
       "prompt_number": 3,
       "text": [
        "<IPython.core.display.HTML at 0xaf65a4c>"
       ]
      }
     ],
     "prompt_number": 3
    },
    {
     "cell_type": "code",
     "collapsed": false,
     "input": [],
     "language": "python",
     "metadata": {},
     "outputs": [],
     "prompt_number": 3
    }
   ],
   "metadata": {}
  }
 ]
}