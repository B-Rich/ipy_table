{
 "metadata": {
  "name": ""
 },
 "nbformat": 3,
 "nbformat_minor": 0,
 "worksheets": [
  {
   "cells": [
    {
     "cell_type": "code",
     "collapsed": false,
     "input": [
      "%load_ext autoreload\n",
      "%autoreload 2"
     ],
     "language": "python",
     "metadata": {},
     "outputs": [],
     "prompt_number": 1
    },
    {
     "cell_type": "code",
     "collapsed": false,
     "input": [
      "import ipy_table as pytbl"
     ],
     "language": "python",
     "metadata": {},
     "outputs": [],
     "prompt_number": 2
    },
    {
     "cell_type": "code",
     "collapsed": false,
     "input": [
      "from collections import Counter"
     ],
     "language": "python",
     "metadata": {},
     "outputs": [],
     "prompt_number": 57
    },
    {
     "cell_type": "code",
     "collapsed": false,
     "input": [
      "table = [];\n",
      "table.append([''    , 'Heading 1', 'Heading 2', 'Heading 3'])\n",
      "table.append(['Row1', 'xxxxxxxxx', 'y'        , 'z'*20])\n",
      "table.append(['Row2', 'Hello'    , 'ipython'  , 'tables!' ])\n",
      "table.append(['Row3', 3.14259    , 1.782      , 0.991     ])\n",
      "table.append(['Row4', 'Number'   , 10.2       , 10 ])\n",
      "\n",
      "pytbl.make_table(table)\n",
      "pytbl.apply_theme('basic')"
     ],
     "language": "python",
     "metadata": {},
     "outputs": [
      {
       "html": [
        "<table border=\"1\" cellpadding=\"3\" cellspacing=\"0\"  style=\"border:1px solid black;border-collapse:collapse;\"><tr><td  style=\"background-color:LightGray;\"><b></b></td><td  style=\"background-color:LightGray;\"><b>Heading&nbsp1</b></td><td  style=\"background-color:LightGray;\"><b>Heading&nbsp2</b></td><td  style=\"background-color:LightGray;\"><b>Heading&nbsp3</b></td></tr><tr><td  style=\"background-color:Ivory;\">Row1</td><td  style=\"background-color:Ivory;\">xxxxxxxxx</td><td  style=\"background-color:Ivory;\">y</td><td  style=\"background-color:Ivory;\">zzzzzzzzzzzzzzzzzzzz</td></tr><tr><td  style=\"background-color:AliceBlue;\">Row2</td><td  style=\"background-color:AliceBlue;\">Hello</td><td  style=\"background-color:AliceBlue;\">ipython</td><td  style=\"background-color:AliceBlue;\">tables!</td></tr><tr><td  style=\"background-color:Ivory;\">Row3</td><td  style=\"background-color:Ivory;\">3.1426</td><td  style=\"background-color:Ivory;\">1.7820</td><td  style=\"background-color:Ivory;\">0.9910</td></tr><tr><td  style=\"background-color:AliceBlue;\">Row4</td><td  style=\"background-color:AliceBlue;\">Number</td><td  style=\"background-color:AliceBlue;\">10.2000</td><td  style=\"background-color:AliceBlue;\">10</td></tr></table>"
       ],
       "latex": [
        "% Some macros could be added the first time table is created\n",
        "\\newcommand{\\cellformat}[2]{\\multicolumn{1}{#1}{#2}}\n",
        "\n",
        "\\begin{tabular}{|l|l|l|l|}\n",
        " \\hline\\textbf{} & \\textbf{Heading 1} & \\textbf{Heading 2} & \\textbf{Heading 3} \\\\  \\hline \n",
        "Row1 & xxxxxxxxx & y & zzzzzzzzzzzzzzzzzzzz \\\\  \\hline \n",
        "Row2 & Hello & ipython & tables! \\\\  \\hline \n",
        "Row3 & 3.1426 & 1.7820 & 0.9910 \\\\  \\hline \n",
        "Row4 & Number & 10.2000 & 10 \\\\  \\hline \n",
        "\\end{tabular}"
       ],
       "metadata": {},
       "output_type": "pyout",
       "prompt_number": 80,
       "text": [
        "<ipy_table.IpyTable at 0x3b88710>"
       ]
      }
     ],
     "prompt_number": 80
    },
    {
     "cell_type": "raw",
     "metadata": {},
     "source": [
      "-- Style HTML: what it does\n",
      "\n",
      "+ align       : Text align\n",
      "+ thick_border: Options are: left,right,top,bottom,all. Creates a double-width border\n",
      "+ no_border   : Options as above, deletes border\n",
      "+ row_span    : Latex multirow\n",
      "- column_span : Latex multicol\n",
      "- width       : Set width in pixels\n",
      "- color       : Set background colour"
     ]
    },
    {
     "cell_type": "code",
     "collapsed": false,
     "input": [
      "x = pytbl.make_table(table)\n",
      "# pytbl.apply_theme('basic')\n",
      "pytbl.set_cell_style(1,1, row_span=3, color='pink')\n",
      "pytbl.set_cell_style(1,2, no_border='bottom', color='pink')\n",
      "pytbl.set_cell_style(2,2, no_border='bottom', color='pink')\n",
      "pytbl.set_cell_style(0,2, no_border='top', color='pink')\n",
      "print x._repr_latex_()\n",
      "x"
     ],
     "language": "python",
     "metadata": {},
     "outputs": [
      {
       "output_type": "stream",
       "stream": "stdout",
       "text": [
        "WARNING: include \\usepackage{array} on latex template\n",
        "\n",
        "% Some macros could be added the first time table is created\n",
        "\\newlength{\\Oldarrayrulewidth}\n",
        "\\newcommand{\\thickline}[2]{%\n",
        "  \\noalign{\\global\\setlength{\\Oldarrayrulewidth}{\\arrayrulewidth}}%\n",
        "  \\noalign{\\global\\setlength{\\arrayrulewidth}{#1}}\\cline{#2}%\n",
        "  \\noalign{\\global\\setlength{\\arrayrulewidth}{\\Oldarrayrulewidth}}}\n",
        "\n",
        "\\begin{tabular}{|l|l|l|l|}\n",
        "\\cline{1-2}\\cline{4-4} & Heading 1 & Heading 2 & Heading 3 \\\\  \\cline{1-4}\n",
        "Row1 & \\multirow{3}{*}{xxxxxxxxx} & y & zzzzzzzzzzzzzzzzzzzz \\\\  \\cline{1-1}\\cline{4-4}\n",
        "Row2 &  & ipython & tables! \\\\  \\cline{1-1}\\cline{4-4}\n",
        "Row3 &  & 1.7820 & 0.9910 \\\\  \\cline{1-4}\n",
        "Row4 & Number & 10.2000 & 10 \\\\  \\cline{1-4}\n",
        "\\end{tabular}\n"
       ]
      },
      {
       "html": [
        "<table border=\"1\" cellpadding=\"3\" cellspacing=\"0\"  style=\"border:1px solid black;border-collapse:collapse;\"><tr><td></td><td>Heading&nbsp1</td><td  style=\"background-color:pink;border-top: 1px solid transparent;\">Heading&nbsp2</td><td>Heading&nbsp3</td></tr><tr><td>Row1</td><td rowspan=\"3\"; style=\"background-color:pink;\">xxxxxxxxx</td><td  style=\"background-color:pink;border-bottom: 1px solid transparent;\">y</td><td>zzzzzzzzzzzzzzzzzzzz</td></tr><tr><td>Row2</td><td  style=\"background-color:pink;border-bottom: 1px solid transparent;\">ipython</td><td>tables!</td></tr><tr><td>Row3</td><td>1.7820</td><td>0.9910</td></tr><tr><td>Row4</td><td>Number</td><td>10.2000</td><td>10</td></tr></table>"
       ],
       "latex": [
        "\\begin{tabular}{|l|l|l|l|}\n",
        "\\cline{1-2}\\cline{4-4} & Heading 1 & Heading 2 & Heading 3 \\\\  \\cline{1-4}\n",
        "Row1 & \\multirow{3}{*}{xxxxxxxxx} & y & zzzzzzzzzzzzzzzzzzzz \\\\  \\cline{1-1}\\cline{4-4}\n",
        "Row2 &  & ipython & tables! \\\\  \\cline{1-1}\\cline{4-4}\n",
        "Row3 &  & 1.7820 & 0.9910 \\\\  \\cline{1-4}\n",
        "Row4 & Number & 10.2000 & 10 \\\\  \\cline{1-4}\n",
        "\\end{tabular}"
       ],
       "metadata": {},
       "output_type": "pyout",
       "prompt_number": 396,
       "text": [
        "<ipy_table.IpyTable at 0x3c79450>"
       ]
      }
     ],
     "prompt_number": 396
    },
    {
     "cell_type": "code",
     "collapsed": false,
     "input": [
      "x._build_hborder_matrix()"
     ],
     "language": "python",
     "metadata": {},
     "outputs": [
      {
       "metadata": {},
       "output_type": "pyout",
       "prompt_number": 394,
       "text": [
        "array([[ 0.,  0.,  3.,  0.],\n",
        "       [ 0.,  0.,  0.,  0.],\n",
        "       [ 0.,  1.,  2.,  0.],\n",
        "       [ 0.,  1.,  2.,  0.],\n",
        "       [ 0.,  0.,  0.,  0.],\n",
        "       [ 0.,  0.,  0.,  0.]])"
       ]
      }
     ],
     "prompt_number": 394
    },
    {
     "cell_type": "code",
     "collapsed": false,
     "input": [],
     "language": "python",
     "metadata": {},
     "outputs": []
    },
    {
     "cell_type": "code",
     "collapsed": false,
     "input": [],
     "language": "python",
     "metadata": {},
     "outputs": []
    },
    {
     "cell_type": "code",
     "collapsed": false,
     "input": [],
     "language": "python",
     "metadata": {},
     "outputs": []
    },
    {
     "cell_type": "code",
     "collapsed": false,
     "input": [],
     "language": "python",
     "metadata": {},
     "outputs": []
    },
    {
     "cell_type": "code",
     "collapsed": false,
     "input": [],
     "language": "python",
     "metadata": {},
     "outputs": []
    },
    {
     "cell_type": "code",
     "collapsed": false,
     "input": [],
     "language": "python",
     "metadata": {},
     "outputs": []
    },
    {
     "cell_type": "code",
     "collapsed": false,
     "input": [],
     "language": "python",
     "metadata": {},
     "outputs": []
    },
    {
     "cell_type": "code",
     "collapsed": false,
     "input": [],
     "language": "python",
     "metadata": {},
     "outputs": []
    },
    {
     "cell_type": "code",
     "collapsed": false,
     "input": [
      "# COMPLEX EXAMPLE -- IF WE CAN DO THIS, WE CAN DO ANYTHING!\n",
      "\n",
      "x = pytbl.make_table(table)\n",
      "pytbl.set_cell_style(2,3, row_span=2, color='cyan')\n",
      "pytbl.set_cell_style(4,0, column_span=2, color='green')\n",
      "pytbl.set_cell_style(0,0, thick_border='left', color='gray')\n",
      "pytbl.set_cell_style(0,1, thick_border='left', color='gray')\n",
      "pytbl.set_cell_style(3,2, thick_border='bottom', color='orange')\n",
      "pytbl.set_cell_style(1,2, no_border='left', color='yellow')\n",
      "pytbl.set_cell_style(1,2, no_border='right', color='yellow')\n",
      "pytbl.set_cell_style(2,1, align='right', color='pink')\n",
      "pytbl.set_cell_style(2,2, align='right', color='pink')\n",
      "pytbl.set_cell_style(2,1, width=200, color='red')\n",
      "\n",
      "print x._repr_latex_()\n",
      "x"
     ],
     "language": "python",
     "metadata": {},
     "outputs": [
      {
       "output_type": "stream",
       "stream": "stdout",
       "text": [
        "WARNING: include \\usepackage{array} on latex template\n",
        "\n",
        "% Some macros could be added the first time table is created\n",
        "\\newcommand{\\cellformat}[2]{\\multicolumn{1}{#1}{#2}}\n",
        "\n",
        "\\begin{tabular}{|l|l|l|l|}\n",
        " \\hline\\multicolumn{1}{!{\\vrule width 2pt}l!{\\vrule width 1pt}}{} & \\multicolumn{1}{!{\\vrule width 1pt}l|}{Heading 1} & Heading 2 & Heading 3 \\\\  \\hline \n",
        "Row1 & \\multicolumn{1}{|l }{xxxxxxxxx} & \\multicolumn{1}{ l }{y} & \\multicolumn{1}{ l|}{zzzzzzzzzzzzzzzzzzzz} \\\\  \\hline \n",
        "Row2 & \\multicolumn{1}{|r|}{Hello} & \\multicolumn{1}{|r|}{ipython} & tables! \\\\  \\hline \n",
        "Row3 & 3.1426 & 1.7820 &  \\\\  \\hline \n",
        "Row4 & 10.2000 & 10 \\\\  \\hline \n",
        "\\end{tabular}\n"
       ]
      },
      {
       "html": [
        "<table border=\"1\" cellpadding=\"3\" cellspacing=\"0\"  style=\"border:1px solid black;border-collapse:collapse;\"><tr><td  style=\"background-color:gray;border-left: 3px solid black;\"></td><td  style=\"background-color:gray;border-left: 3px solid black;\">Heading&nbsp1</td><td>Heading&nbsp2</td><td>Heading&nbsp3</td></tr><tr><td>Row1</td><td  style=\"border-right: 1px solid transparent;\">xxxxxxxxx</td><td  style=\"background-color:yellow;border-left: 1px solid transparent;border-right: 1px solid transparent;\">y</td><td>zzzzzzzzzzzzzzzzzzzz</td></tr><tr><td>Row2</td><td  style=\"background-color:red;text-align:right;width:200px;\">Hello</td><td  style=\"background-color:pink;text-align:right;\">ipython</td><td rowspan=\"2\"; style=\"background-color:cyan;\">tables!</td></tr><tr><td>Row3</td><td>3.1426</td><td  style=\"background-color:orange;border-bottom: 3px solid black;\">1.7820</td></tr><tr><td colspan=\"2\"; style=\"background-color:green;\">Row4</td><td  style=\"border-top: 3px solid black;\">10.2000</td><td>10</td></tr></table>"
       ],
       "latex": [
        "\\begin{tabular}{|l|l|l|l|}\n",
        " \\hline\\multicolumn{1}{!{\\vrule width 2pt}l!{\\vrule width 1pt}}{} & \\multicolumn{1}{!{\\vrule width 1pt}l|}{Heading 1} & Heading 2 & Heading 3 \\\\  \\hline \n",
        "Row1 & \\multicolumn{1}{|l }{xxxxxxxxx} & \\multicolumn{1}{ l }{y} & \\multicolumn{1}{ l|}{zzzzzzzzzzzzzzzzzzzz} \\\\  \\hline \n",
        "Row2 & \\multicolumn{1}{|r|}{Hello} & \\multicolumn{1}{|r|}{ipython} & tables! \\\\  \\hline \n",
        "Row3 & 3.1426 & 1.7820 &  \\\\  \\hline \n",
        "Row4 & 10.2000 & 10 \\\\  \\hline \n",
        "\\end{tabular}"
       ],
       "metadata": {},
       "output_type": "pyout",
       "prompt_number": 305,
       "text": [
        "<ipy_table.IpyTable at 0x3c79690>"
       ]
      }
     ],
     "prompt_number": 305
    }
   ],
   "metadata": {}
  }
 ]
}