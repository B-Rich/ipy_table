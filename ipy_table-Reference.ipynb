{
 "metadata": {
  "name": "ipy_table-Reference"
 },
 "nbformat": 3,
 "nbformat_minor": 0,
 "worksheets": [
  {
   "cells": [
    {
     "cell_type": "heading",
     "level": 1,
     "metadata": {},
     "source": [
      "ipy_table Reference"
     ]
    },
    {
     "cell_type": "markdown",
     "metadata": {},
     "source": [
      "ipy_table is a supporting module for IP[y]:Notebook which makes it easy to create beautiful data tables."
     ]
    },
    {
     "cell_type": "heading",
     "level": 2,
     "metadata": {},
     "source": [
      "Table Creation"
     ]
    },
    {
     "cell_type": "code",
     "collapsed": false,
     "input": [
      "from ipy_table import *\n",
      "example_table = [[i for i in range(j,j+4)] for j in range(0,30,10)]\n",
      "make_table(example_table)"
     ],
     "language": "python",
     "metadata": {},
     "outputs": [
      {
       "html": [
        "<table border=\"1\" cellpadding=\"3\" cellspacing=\"0\" style=\"border:1px solid black;border-collapse:collapse;\"><tr><td >0</td><td >1</td><td >2</td><td >3</td></tr><tr><td >10</td><td >11</td><td >12</td><td >13</td></tr><tr><td >20</td><td >21</td><td >22</td><td >23</td></tr>"
       ],
       "output_type": "pyout",
       "prompt_number": 1,
       "text": [
        "<IPython.core.display.HTML at 0xaae7acc>"
       ]
      }
     ],
     "prompt_number": 1
    },
    {
     "cell_type": "heading",
     "level": 2,
     "metadata": {},
     "source": [
      "Built-in Styles"
     ]
    },
    {
     "cell_type": "code",
     "collapsed": false,
     "input": [
      "make_table(example_table)\n",
      "apply_theme('basic')"
     ],
     "language": "python",
     "metadata": {},
     "outputs": [
      {
       "html": [
        "<table border=\"1\" cellpadding=\"3\" cellspacing=\"0\" style=\"border:1px solid black;border-collapse:collapse;\"><tr><td  style=\"background-color:LightGray;\"><b>0</b></td><td  style=\"background-color:LightGray;\"><b>1</b></td><td  style=\"background-color:LightGray;\"><b>2</b></td><td  style=\"background-color:LightGray;\"><b>3</b></td></tr><tr><td  style=\"background-color:Ivory;\">10</td><td  style=\"background-color:Ivory;\">11</td><td  style=\"background-color:Ivory;\">12</td><td  style=\"background-color:Ivory;\">13</td></tr><tr><td  style=\"background-color:AliceBlue;\">20</td><td  style=\"background-color:AliceBlue;\">21</td><td  style=\"background-color:AliceBlue;\">22</td><td  style=\"background-color:AliceBlue;\">23</td></tr>"
       ],
       "output_type": "pyout",
       "prompt_number": 2,
       "text": [
        "<IPython.core.display.HTML at 0xaae72ac>"
       ]
      }
     ],
     "prompt_number": 2
    },
    {
     "cell_type": "code",
     "collapsed": false,
     "input": [
      "make_table(example_table)\n",
      "apply_theme('basic_left')"
     ],
     "language": "python",
     "metadata": {},
     "outputs": [
      {
       "html": [
        "<table border=\"1\" cellpadding=\"3\" cellspacing=\"0\" style=\"border:1px solid black;border-collapse:collapse;\"><tr><td  style=\"background-color:LightGray;\"><b>0</b></td><td  style=\"background-color:AliceBlue;\">1</td><td  style=\"background-color:AliceBlue;\">2</td><td  style=\"background-color:AliceBlue;\">3</td></tr><tr><td  style=\"background-color:LightGray;\"><b>10</b></td><td  style=\"background-color:Ivory;\">11</td><td  style=\"background-color:Ivory;\">12</td><td  style=\"background-color:Ivory;\">13</td></tr><tr><td  style=\"background-color:LightGray;\"><b>20</b></td><td  style=\"background-color:AliceBlue;\">21</td><td  style=\"background-color:AliceBlue;\">22</td><td  style=\"background-color:AliceBlue;\">23</td></tr>"
       ],
       "output_type": "pyout",
       "prompt_number": 3,
       "text": [
        "<IPython.core.display.HTML at 0xaae752c>"
       ]
      }
     ],
     "prompt_number": 3
    },
    {
     "cell_type": "code",
     "collapsed": false,
     "input": [
      "import copy\n",
      "example_table2 = copy.deepcopy(example_table)  # Copy the example table\n",
      "example_table2[0][0] = ''   # Clear the contents of the upper left corner cell\n",
      "make_table(example_table2)\n",
      "apply_theme('basic_both')"
     ],
     "language": "python",
     "metadata": {},
     "outputs": [
      {
       "html": [
        "<table border=\"1\" cellpadding=\"3\" cellspacing=\"0\" style=\"border:1px solid black;border-collapse:collapse;\"><tr><td  style=\"background-color:White;border-left: 1px solid transparent;border-top: 1px solid transparent;\"><b></b></td><td  style=\"background-color:LightGray;\"><b>1</b></td><td  style=\"background-color:LightGray;\"><b>2</b></td><td  style=\"background-color:LightGray;\"><b>3</b></td></tr><tr><td  style=\"background-color:LightGray;\"><b>10</b></td><td  style=\"background-color:Ivory;\">11</td><td  style=\"background-color:Ivory;\">12</td><td  style=\"background-color:Ivory;\">13</td></tr><tr><td  style=\"background-color:LightGray;\"><b>20</b></td><td  style=\"background-color:AliceBlue;\">21</td><td  style=\"background-color:AliceBlue;\">22</td><td  style=\"background-color:AliceBlue;\">23</td></tr>"
       ],
       "output_type": "pyout",
       "prompt_number": 4,
       "text": [
        "<IPython.core.display.HTML at 0xaae7f6c>"
       ]
      }
     ],
     "prompt_number": 4
    },
    {
     "cell_type": "heading",
     "level": 2,
     "metadata": {},
     "source": [
      "set_cell_style()"
     ]
    },
    {
     "cell_type": "code",
     "collapsed": false,
     "input": [
      "make_table(example_table)\n",
      "set_cell_style(1, 2, color='red')"
     ],
     "language": "python",
     "metadata": {},
     "outputs": [
      {
       "html": [
        "<table border=\"1\" cellpadding=\"3\" cellspacing=\"0\" style=\"border:1px solid black;border-collapse:collapse;\"><tr><td >0</td><td >1</td><td >2</td><td >3</td></tr><tr><td >10</td><td >11</td><td  style=\"background-color:red;\">12</td><td >13</td></tr><tr><td >20</td><td >21</td><td >22</td><td >23</td></tr>"
       ],
       "output_type": "pyout",
       "prompt_number": 5,
       "text": [
        "<IPython.core.display.HTML at 0xaae764c>"
       ]
      }
     ],
     "prompt_number": 5
    },
    {
     "cell_type": "heading",
     "level": 2,
     "metadata": {},
     "source": [
      "set_row_style()"
     ]
    },
    {
     "cell_type": "code",
     "collapsed": false,
     "input": [
      "make_table(example_table)\n",
      "set_row_style(0, color='lightGreen')"
     ],
     "language": "python",
     "metadata": {},
     "outputs": [
      {
       "html": [
        "<table border=\"1\" cellpadding=\"3\" cellspacing=\"0\" style=\"border:1px solid black;border-collapse:collapse;\"><tr><td  style=\"background-color:lightGreen;\">0</td><td  style=\"background-color:lightGreen;\">1</td><td  style=\"background-color:lightGreen;\">2</td><td  style=\"background-color:lightGreen;\">3</td></tr><tr><td >10</td><td >11</td><td >12</td><td >13</td></tr><tr><td >20</td><td >21</td><td >22</td><td >23</td></tr>"
       ],
       "output_type": "pyout",
       "prompt_number": 6,
       "text": [
        "<IPython.core.display.HTML at 0xaae768c>"
       ]
      }
     ],
     "prompt_number": 6
    },
    {
     "cell_type": "heading",
     "level": 2,
     "metadata": {},
     "source": [
      "set_column_style()"
     ]
    },
    {
     "cell_type": "code",
     "collapsed": false,
     "input": [
      "make_table(example_table)\n",
      "set_column_style(1, color='lightBlue')"
     ],
     "language": "python",
     "metadata": {},
     "outputs": [
      {
       "html": [
        "<table border=\"1\" cellpadding=\"3\" cellspacing=\"0\" style=\"border:1px solid black;border-collapse:collapse;\"><tr><td >0</td><td  style=\"background-color:lightBlue;\">1</td><td >2</td><td >3</td></tr><tr><td >10</td><td  style=\"background-color:lightBlue;\">11</td><td >12</td><td >13</td></tr><tr><td >20</td><td  style=\"background-color:lightBlue;\">21</td><td >22</td><td >23</td></tr>"
       ],
       "output_type": "pyout",
       "prompt_number": 7,
       "text": [
        "<IPython.core.display.HTML at 0xaae7e6c>"
       ]
      }
     ],
     "prompt_number": 7
    },
    {
     "cell_type": "heading",
     "level": 2,
     "metadata": {},
     "source": [
      "set_global_style()"
     ]
    },
    {
     "cell_type": "code",
     "collapsed": false,
     "input": [
      "make_table(example_table)\n",
      "set_global_style(color='Pink')"
     ],
     "language": "python",
     "metadata": {},
     "outputs": [
      {
       "html": [
        "<table border=\"1\" cellpadding=\"3\" cellspacing=\"0\" style=\"border:1px solid black;border-collapse:collapse;\"><tr><td  style=\"background-color:Pink;\">0</td><td  style=\"background-color:Pink;\">1</td><td  style=\"background-color:Pink;\">2</td><td  style=\"background-color:Pink;\">3</td></tr><tr><td  style=\"background-color:Pink;\">10</td><td  style=\"background-color:Pink;\">11</td><td  style=\"background-color:Pink;\">12</td><td  style=\"background-color:Pink;\">13</td></tr><tr><td  style=\"background-color:Pink;\">20</td><td  style=\"background-color:Pink;\">21</td><td  style=\"background-color:Pink;\">22</td><td  style=\"background-color:Pink;\">23</td></tr>"
       ],
       "output_type": "pyout",
       "prompt_number": 8,
       "text": [
        "<IPython.core.display.HTML at 0xaae73cc>"
       ]
      }
     ],
     "prompt_number": 8
    },
    {
     "cell_type": "heading",
     "level": 2,
     "metadata": {},
     "source": [
      "Style options"
     ]
    },
    {
     "cell_type": "heading",
     "level": 3,
     "metadata": {},
     "source": [
      "bold"
     ]
    },
    {
     "cell_type": "code",
     "collapsed": false,
     "input": [
      "make_table(example_table)\n",
      "set_row_style(1, bold=True)"
     ],
     "language": "python",
     "metadata": {},
     "outputs": [
      {
       "html": [
        "<table border=\"1\" cellpadding=\"3\" cellspacing=\"0\" style=\"border:1px solid black;border-collapse:collapse;\"><tr><td >0</td><td >1</td><td >2</td><td >3</td></tr><tr><td ><b>10</b></td><td ><b>11</b></td><td ><b>12</b></td><td ><b>13</b></td></tr><tr><td >20</td><td >21</td><td >22</td><td >23</td></tr>"
       ],
       "output_type": "pyout",
       "prompt_number": 9,
       "text": [
        "<IPython.core.display.HTML at 0xaae746c>"
       ]
      }
     ],
     "prompt_number": 9
    },
    {
     "cell_type": "heading",
     "level": 3,
     "metadata": {},
     "source": [
      "italic"
     ]
    },
    {
     "cell_type": "code",
     "collapsed": false,
     "input": [
      "make_table(example_table)\n",
      "set_row_style(1, italic=True)"
     ],
     "language": "python",
     "metadata": {},
     "outputs": [
      {
       "html": [
        "<table border=\"1\" cellpadding=\"3\" cellspacing=\"0\" style=\"border:1px solid black;border-collapse:collapse;\"><tr><td >0</td><td >1</td><td >2</td><td >3</td></tr><tr><td ><i>10</i></td><td ><i>11</i></td><td ><i>12</i></td><td ><i>13</i></td></tr><tr><td >20</td><td >21</td><td >22</td><td >23</td></tr>"
       ],
       "output_type": "pyout",
       "prompt_number": 10,
       "text": [
        "<IPython.core.display.HTML at 0xaae7eec>"
       ]
      }
     ],
     "prompt_number": 10
    },
    {
     "cell_type": "heading",
     "level": 3,
     "metadata": {},
     "source": [
      "color"
     ]
    },
    {
     "cell_type": "code",
     "collapsed": false,
     "input": [
      "make_table(example_table)\n",
      "set_row_style(1, color='Orange')"
     ],
     "language": "python",
     "metadata": {},
     "outputs": [
      {
       "html": [
        "<table border=\"1\" cellpadding=\"3\" cellspacing=\"0\" style=\"border:1px solid black;border-collapse:collapse;\"><tr><td >0</td><td >1</td><td >2</td><td >3</td></tr><tr><td  style=\"background-color:Orange;\">10</td><td  style=\"background-color:Orange;\">11</td><td  style=\"background-color:Orange;\">12</td><td  style=\"background-color:Orange;\">13</td></tr><tr><td >20</td><td >21</td><td >22</td><td >23</td></tr>"
       ],
       "output_type": "pyout",
       "prompt_number": 11,
       "text": [
        "<IPython.core.display.HTML at 0xaae7eac>"
       ]
      }
     ],
     "prompt_number": 11
    },
    {
     "cell_type": "heading",
     "level": 3,
     "metadata": {},
     "source": [
      "thick_border"
     ]
    },
    {
     "cell_type": "code",
     "collapsed": false,
     "input": [
      "make_table(example_table)\n",
      "set_row_style(1, thick_border='all')"
     ],
     "language": "python",
     "metadata": {},
     "outputs": [
      {
       "html": [
        "<table border=\"1\" cellpadding=\"3\" cellspacing=\"0\" style=\"border:1px solid black;border-collapse:collapse;\"><tr><td >0</td><td >1</td><td >2</td><td >3</td></tr><tr><td  style=\"border-left: 3px solid black;border-right: 3px solid black;border-top: 3px solid black;border-bottom: 3px solid black;\">10</td><td  style=\"border-left: 3px solid black;border-right: 3px solid black;border-top: 3px solid black;border-bottom: 3px solid black;\">11</td><td  style=\"border-left: 3px solid black;border-right: 3px solid black;border-top: 3px solid black;border-bottom: 3px solid black;\">12</td><td  style=\"border-left: 3px solid black;border-right: 3px solid black;border-top: 3px solid black;border-bottom: 3px solid black;\">13</td></tr><tr><td  style=\"border-top: 3px solid black;\">20</td><td  style=\"border-top: 3px solid black;\">21</td><td  style=\"border-top: 3px solid black;\">22</td><td  style=\"border-top: 3px solid black;\">23</td></tr>"
       ],
       "output_type": "pyout",
       "prompt_number": 12,
       "text": [
        "<IPython.core.display.HTML at 0xab640cc>"
       ]
      }
     ],
     "prompt_number": 12
    },
    {
     "cell_type": "code",
     "collapsed": false,
     "input": [
      "make_table(example_table)\n",
      "set_cell_style(0,0, thick_border='left,top')\n",
      "set_cell_style(2,3, thick_border='right,bottom')"
     ],
     "language": "python",
     "metadata": {},
     "outputs": [
      {
       "html": [
        "<table border=\"1\" cellpadding=\"3\" cellspacing=\"0\" style=\"border:1px solid black;border-collapse:collapse;\"><tr><td  style=\"border-left: 3px solid black;border-top: 3px solid black;\">0</td><td >1</td><td >2</td><td >3</td></tr><tr><td >10</td><td >11</td><td >12</td><td >13</td></tr><tr><td >20</td><td >21</td><td >22</td><td  style=\"border-right: 3px solid black;border-bottom: 3px solid black;\">23</td></tr>"
       ],
       "output_type": "pyout",
       "prompt_number": 13,
       "text": [
        "<IPython.core.display.HTML at 0xab6412c>"
       ]
      }
     ],
     "prompt_number": 13
    },
    {
     "cell_type": "heading",
     "level": 3,
     "metadata": {},
     "source": [
      "no_border"
     ]
    },
    {
     "cell_type": "code",
     "collapsed": false,
     "input": [
      "make_table(example_table)\n",
      "set_row_style(1, no_border='all')"
     ],
     "language": "python",
     "metadata": {},
     "outputs": [
      {
       "html": [
        "<table border=\"1\" cellpadding=\"3\" cellspacing=\"0\" style=\"border:1px solid black;border-collapse:collapse;\"><tr><td  style=\"border-bottom: 1px solid transparent;\">0</td><td  style=\"border-bottom: 1px solid transparent;\">1</td><td  style=\"border-bottom: 1px solid transparent;\">2</td><td  style=\"border-bottom: 1px solid transparent;\">3</td></tr><tr><td  style=\"border-left: 1px solid transparent;border-right: 1px solid transparent;border-top: 1px solid transparent;border-bottom: 1px solid transparent;\">10</td><td  style=\"border-left: 1px solid transparent;border-right: 1px solid transparent;border-top: 1px solid transparent;border-bottom: 1px solid transparent;\">11</td><td  style=\"border-left: 1px solid transparent;border-right: 1px solid transparent;border-top: 1px solid transparent;border-bottom: 1px solid transparent;\">12</td><td  style=\"border-left: 1px solid transparent;border-right: 1px solid transparent;border-top: 1px solid transparent;border-bottom: 1px solid transparent;\">13</td></tr><tr><td >20</td><td >21</td><td >22</td><td >23</td></tr>"
       ],
       "output_type": "pyout",
       "prompt_number": 14,
       "text": [
        "<IPython.core.display.HTML at 0xab6422c>"
       ]
      }
     ],
     "prompt_number": 14
    },
    {
     "cell_type": "code",
     "collapsed": false,
     "input": [
      "make_table(example_table)\n",
      "set_cell_style(0,0, no_border='left,top')\n",
      "set_cell_style(2,3, no_border='right,bottom')"
     ],
     "language": "python",
     "metadata": {},
     "outputs": [
      {
       "html": [
        "<table border=\"1\" cellpadding=\"3\" cellspacing=\"0\" style=\"border:1px solid black;border-collapse:collapse;\"><tr><td  style=\"border-left: 1px solid transparent;border-top: 1px solid transparent;\">0</td><td >1</td><td >2</td><td >3</td></tr><tr><td >10</td><td >11</td><td >12</td><td >13</td></tr><tr><td >20</td><td >21</td><td >22</td><td  style=\"border-right: 1px solid transparent;border-bottom: 1px solid transparent;\">23</td></tr>"
       ],
       "output_type": "pyout",
       "prompt_number": 16,
       "text": [
        "<IPython.core.display.HTML at 0xaaea0ec>"
       ]
      }
     ],
     "prompt_number": 16
    },
    {
     "cell_type": "heading",
     "level": 3,
     "metadata": {},
     "source": [
      "row_span"
     ]
    },
    {
     "cell_type": "code",
     "collapsed": false,
     "input": [
      "make_table(example_table)\n",
      "set_cell_style(0, 0, row_span=3)"
     ],
     "language": "python",
     "metadata": {},
     "outputs": [
      {
       "html": [
        "<table border=\"1\" cellpadding=\"3\" cellspacing=\"0\" style=\"border:1px solid black;border-collapse:collapse;\"><tr><td rowspan=\"3\";>0</td><td >1</td><td >2</td><td >3</td></tr><tr><td >11</td><td >12</td><td >13</td></tr><tr><td >21</td><td >22</td><td >23</td></tr>"
       ],
       "output_type": "pyout",
       "prompt_number": 17,
       "text": [
        "<IPython.core.display.HTML at 0xaaea12c>"
       ]
      }
     ],
     "prompt_number": 17
    },
    {
     "cell_type": "heading",
     "level": 3,
     "metadata": {},
     "source": [
      "column_span"
     ]
    },
    {
     "cell_type": "code",
     "collapsed": false,
     "input": [
      "make_table(example_table)\n",
      "set_cell_style(1,1, column_span=3)"
     ],
     "language": "python",
     "metadata": {},
     "outputs": [
      {
       "html": [
        "<table border=\"1\" cellpadding=\"3\" cellspacing=\"0\" style=\"border:1px solid black;border-collapse:collapse;\"><tr><td >0</td><td >1</td><td >2</td><td >3</td></tr><tr><td >10</td><td colspan=\"3\";>11</td></tr><tr><td >20</td><td >21</td><td >22</td><td >23</td></tr>"
       ],
       "output_type": "pyout",
       "prompt_number": 18,
       "text": [
        "<IPython.core.display.HTML at 0xaaea1cc>"
       ]
      }
     ],
     "prompt_number": 18
    },
    {
     "cell_type": "heading",
     "level": 3,
     "metadata": {},
     "source": [
      "width"
     ]
    },
    {
     "cell_type": "code",
     "collapsed": false,
     "input": [
      "make_table(example_table)\n",
      "set_cell_style(0,0, width=100)"
     ],
     "language": "python",
     "metadata": {},
     "outputs": [
      {
       "html": [
        "<table border=\"1\" cellpadding=\"3\" cellspacing=\"0\" style=\"border:1px solid black;border-collapse:collapse;\"><tr><td  style=\"width:100px;\">0</td><td >1</td><td >2</td><td >3</td></tr><tr><td >10</td><td >11</td><td >12</td><td >13</td></tr><tr><td >20</td><td >21</td><td >22</td><td >23</td></tr>"
       ],
       "output_type": "pyout",
       "prompt_number": 19,
       "text": [
        "<IPython.core.display.HTML at 0xaaea14c>"
       ]
      }
     ],
     "prompt_number": 19
    },
    {
     "cell_type": "heading",
     "level": 3,
     "metadata": {},
     "source": [
      "align"
     ]
    },
    {
     "cell_type": "code",
     "collapsed": false,
     "input": [
      "make_table(example_table)\n",
      "set_cell_style(0, 0, width='100')\n",
      "set_cell_style(0, 0, align='right')\n",
      "set_cell_style(1, 0, align='center')"
     ],
     "language": "python",
     "metadata": {},
     "outputs": [
      {
       "html": [
        "<table border=\"1\" cellpadding=\"3\" cellspacing=\"0\" style=\"border:1px solid black;border-collapse:collapse;\"><tr><td  style=\"text-align:right;width:100px;\">0</td><td >1</td><td >2</td><td >3</td></tr><tr><td  style=\"text-align:center;\">10</td><td >11</td><td >12</td><td >13</td></tr><tr><td >20</td><td >21</td><td >22</td><td >23</td></tr>"
       ],
       "output_type": "pyout",
       "prompt_number": 20,
       "text": [
        "<IPython.core.display.HTML at 0xaaea20c>"
       ]
      }
     ],
     "prompt_number": 20
    },
    {
     "cell_type": "heading",
     "level": 3,
     "metadata": {},
     "source": [
      "wrap"
     ]
    },
    {
     "cell_type": "code",
     "collapsed": false,
     "input": [
      "example_table2 = copy.deepcopy(example_table)\n",
      "example_table2[0][0] = 'This cell has wrap set'  \n",
      "example_table2[0][1] = 'This cell does not have wrap set'\n",
      "make_table(example_table2)\n",
      "set_cell_style(0, 0, width=50,wrap=True)\n",
      "set_cell_style(0, 1, width=50)\n"
     ],
     "language": "python",
     "metadata": {},
     "outputs": [
      {
       "html": [
        "<table border=\"1\" cellpadding=\"3\" cellspacing=\"0\" style=\"border:1px solid black;border-collapse:collapse;\"><tr><td  style=\"width:50px;\">This cell has wrap set</td><td  style=\"width:50px;\">This&nbspcell&nbspdoes&nbspnot&nbsphave&nbspwrap&nbspset</td><td >2</td><td >3</td></tr><tr><td >10</td><td >11</td><td >12</td><td >13</td></tr><tr><td >20</td><td >21</td><td >22</td><td >23</td></tr>"
       ],
       "output_type": "pyout",
       "prompt_number": 21,
       "text": [
        "<IPython.core.display.HTML at 0xaaea70c>"
       ]
      }
     ],
     "prompt_number": 21
    },
    {
     "cell_type": "heading",
     "level": 3,
     "metadata": {},
     "source": [
      "float_format"
     ]
    },
    {
     "cell_type": "code",
     "collapsed": false,
     "input": [
      "from ipy_table import *\n",
      "example_table2 = [[i + float(i)/100.0 + i/10000.0 for i in range(j,j+4)] for j in range(0,30,10)]\n",
      "make_table(example_table2)\n",
      "set_cell_style(0, 0, float_format='%0.1f')\n",
      "set_cell_style(1, 0, float_format='%0.6f')\n",
      "set_cell_style(2, 0, float_format='$%0.2f')"
     ],
     "language": "python",
     "metadata": {},
     "outputs": [
      {
       "html": [
        "<table border=\"1\" cellpadding=\"3\" cellspacing=\"0\" style=\"border:1px solid black;border-collapse:collapse;\"><tr><td >0.0</td><td >1.0101</td><td >2.0202</td><td >3.0303</td></tr><tr><td >10.101000</td><td >11.1111</td><td >12.1212</td><td >13.1313</td></tr><tr><td >$20.20</td><td >21.2121</td><td >22.2222</td><td >23.2323</td></tr>"
       ],
       "output_type": "pyout",
       "prompt_number": 22,
       "text": [
        "<IPython.core.display.HTML at 0xaaeaa0c>"
       ]
      }
     ],
     "prompt_number": 22
    },
    {
     "cell_type": "heading",
     "level": 2,
     "metadata": {},
     "source": [
      "Class interface"
     ]
    },
    {
     "cell_type": "code",
     "collapsed": false,
     "input": [
      "t = IpyTable(example_table)\n",
      "t.set_cell_style(1, 1, color='DarkCyan')"
     ],
     "language": "python",
     "metadata": {},
     "outputs": [],
     "prompt_number": 23
    },
    {
     "cell_type": "code",
     "collapsed": false,
     "input": [
      "t.render()"
     ],
     "language": "python",
     "metadata": {},
     "outputs": [
      {
       "html": [
        "<table border=\"1\" cellpadding=\"3\" cellspacing=\"0\" style=\"border:1px solid black;border-collapse:collapse;\"><tr><td >0</td><td >1</td><td >2</td><td >3</td></tr><tr><td >10</td><td  style=\"background-color:DarkCyan;\">11</td><td >12</td><td >13</td></tr><tr><td >20</td><td >21</td><td >22</td><td >23</td></tr>"
       ],
       "output_type": "pyout",
       "prompt_number": 24,
       "text": [
        "<IPython.core.display.HTML at 0xaaea32c>"
       ]
      }
     ],
     "prompt_number": 24
    },
    {
     "cell_type": "heading",
     "level": 2,
     "metadata": {},
     "source": [
      "Debug mode"
     ]
    },
    {
     "cell_type": "code",
     "collapsed": false,
     "input": [
      "make_table(example_table, debug=True)"
     ],
     "language": "python",
     "metadata": {},
     "outputs": [
      {
       "output_type": "stream",
       "stream": "stdout",
       "text": [
        "<table border=\"1\" cellpadding=\"3\" cellspacing=\"0\" style=\"border:1px solid black;border-collapse:collapse;\"><tr><td >0</td><td >1</td><td >2</td><td >3</td></tr><tr><td >10</td><td >11</td><td >12</td><td >13</td></tr><tr><td >20</td><td >21</td><td >22</td><td >23</td></tr>\n"
       ]
      },
      {
       "html": [
        "<table border=\"1\" cellpadding=\"3\" cellspacing=\"0\" style=\"border:1px solid black;border-collapse:collapse;\"><tr><td >0</td><td >1</td><td >2</td><td >3</td></tr><tr><td >10</td><td >11</td><td >12</td><td >13</td></tr><tr><td >20</td><td >21</td><td >22</td><td >23</td></tr>"
       ],
       "output_type": "pyout",
       "prompt_number": 25,
       "text": [
        "<IPython.core.display.HTML at 0xab640ec>"
       ]
      }
     ],
     "prompt_number": 25
    },
    {
     "cell_type": "heading",
     "level": 2,
     "metadata": {},
     "source": [
      "Tabulate"
     ]
    },
    {
     "cell_type": "code",
     "collapsed": false,
     "input": [
      "tabulate(range(20), 6)"
     ],
     "language": "python",
     "metadata": {},
     "outputs": [
      {
       "html": [
        "<table border=\"1\" cellpadding=\"3\" cellspacing=\"0\" style=\"border:1px solid black;border-collapse:collapse;\"><tr><td >0</td><td >1</td><td >2</td><td >3</td><td >4</td><td >5</td></tr><tr><td >6</td><td >7</td><td >8</td><td >9</td><td >10</td><td >11</td></tr><tr><td >12</td><td >13</td><td >14</td><td >15</td><td >16</td><td >17</td></tr><tr><td >18</td><td >19</td><td ></td><td ></td><td ></td><td ></td></tr>"
       ],
       "output_type": "pyout",
       "prompt_number": 26,
       "text": [
        "<IPython.core.display.HTML at 0xaaea5ec>"
       ]
      }
     ],
     "prompt_number": 26
    }
   ],
   "metadata": {}
  }
 ]
}